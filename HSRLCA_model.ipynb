{
 "cells": [
  {
   "cell_type": "markdown",
   "metadata": {},
   "source": [
    "<h1>Life Cycle Scenario Analysis of Chinese-built High-speed Rail in Continental Southeast Asia</h1>\n",
    "<h2>Model Implementation and Scenario Analysis</h2>"
   ]
  },
  {
   "cell_type": "markdown",
   "metadata": {},
   "source": [
    "The present Jupyter notebook presents the code used to implement the life cycle model, apply it to the selected scenarios from the perspective of each considered country, and collect and export the results.\n",
    "\n",
    "The notebook can be run as-is, assuming that one has access to the required packages, listed in the first code cell, and has downloaded the required data, which are saved in the model repository along with the notebook and model code. Excepting the packages numpy, pandas, and os, nothing outside of the repository is required for operation.\n",
    "\n",
    "Running the full notebook will export selected calculations to csv files in the specified export directory, export_dir, listed in the second code cell. All model assumptions can be adjusted in the third code cell.\n",
    "\n",
    "For further information on the model calculations, see the model.py and calc.py module documentation by entering help(model) and help(calc), respectively, after they have been imported. For complete details, each module includes full, PEP 8 compliant comments."
   ]
  },
  {
   "cell_type": "markdown",
   "metadata": {},
   "source": [
    "# Model Setup"
   ]
  },
  {
   "cell_type": "markdown",
   "metadata": {},
   "source": [
    "## Settings and Imports"
   ]
  },
  {
   "cell_type": "code",
   "execution_count": 1,
   "metadata": {
    "ExecuteTime": {
     "end_time": "2019-10-10T18:05:48.486609Z",
     "start_time": "2019-10-10T18:05:47.914316Z"
    }
   },
   "outputs": [],
   "source": [
    "# Import required packages\n",
    "import hsrlca.model as model\n",
    "import hsrlca.calc as calc\n",
    "import numpy as np  # model implemented with version 1.16.5\n",
    "import pandas as pd  # model implemented with version 0.25.1\n",
    "import os.path"
   ]
  },
  {
   "cell_type": "code",
   "execution_count": 2,
   "metadata": {
    "ExecuteTime": {
     "end_time": "2019-10-10T18:05:48.490578Z",
     "start_time": "2019-10-10T18:05:48.487577Z"
    }
   },
   "outputs": [],
   "source": [
    "# Set results export directory\n",
    "export_dir = 'results'"
   ]
  },
  {
   "cell_type": "markdown",
   "metadata": {},
   "source": [
    "## Assumptions"
   ]
  },
  {
   "cell_type": "code",
   "execution_count": 3,
   "metadata": {
    "ExecuteTime": {
     "end_time": "2019-10-10T18:05:48.504568Z",
     "start_time": "2019-10-10T18:05:48.492565Z"
    }
   },
   "outputs": [],
   "source": [
    "# Functional Unit Normalization\n",
    "\n",
    "## Average number of seats per train\n",
    "avg_train_capacity = 1000\n",
    "## Average percentage of seats filled per train (between 0 and 1)\n",
    "avg_train_capacity_filled = 0.70\n",
    "## Average number of daily trips per train\n",
    "avg_daily_trips_per_train = 2\n",
    "## Average train trip distance in km\n",
    "avg_train_trip_distance = 450\n",
    "## Average train lifespan in years\n",
    "avg_train_lifespan = 20\n",
    "## Average number of trains running across all home_country tracks\n",
    "avg_number_active_trains = 135\n",
    "## Average train mass\n",
    "avg_train_mass = 409000\n",
    "## Average infrastructure lifespan in years\n",
    "avg_infrastructure_lifespan = 100\n",
    "## Average percent of all track that is ballasted\n",
    "avg_pct_ballasted_track = 0.30\n",
    "## Number of days in a year\n",
    "days = 365.25\n",
    "\n",
    "# Transportation\n",
    "\n",
    "## Specify estimated proportion of goods transported by freight rail (rest allocated to freight lorry)\n",
    "rail_allocation = 0.5"
   ]
  },
  {
   "cell_type": "markdown",
   "metadata": {},
   "source": [
    "# Data"
   ]
  },
  {
   "cell_type": "markdown",
   "metadata": {},
   "source": [
    "## Base Data"
   ]
  },
  {
   "cell_type": "code",
   "execution_count": 4,
   "metadata": {
    "ExecuteTime": {
     "end_time": "2019-10-10T18:05:48.512552Z",
     "start_time": "2019-10-10T18:05:48.507524Z"
    }
   },
   "outputs": [],
   "source": [
    "# Data directory name\n",
    "data_dir = 'data'\n",
    "\n",
    "# General data\n",
    "## Unit process requirements, per unit output, as a square matrix\n",
    "up_inputs_base = 'unit_process_inputs_master.csv'\n",
    "## Unit process emissions, per unit output\n",
    "up_emissions_base = 'unit_process_emissions_base.csv'\n",
    "## Average distances implied by each possible international trade route for individual components\n",
    "trade_distances = 'trade_distances.csv'\n",
    "## National energy supply data\n",
    "national_energy_supply = 'national_energy_supply.csv'\n",
    "## Energy emissions per unit output (kWh)\n",
    "unit_energy_emissions = 'unit_energy_emissions.csv'\n",
    "## Conversion factors yielding CO2eq and SO2eq, respectively\n",
    "emissions_eq_conversion = 'emissions_eq_conversions.csv'"
   ]
  },
  {
   "cell_type": "markdown",
   "metadata": {},
   "source": [
    "## Scenario Data"
   ]
  },
  {
   "cell_type": "code",
   "execution_count": 5,
   "metadata": {
    "ExecuteTime": {
     "end_time": "2019-10-10T18:05:48.524520Z",
     "start_time": "2019-10-10T18:05:48.514505Z"
    }
   },
   "outputs": [],
   "source": [
    "# Differentiated scenario data\n",
    "## Schedules of countries in which each unit process occurs\n",
    "\n",
    "### Autarky scenario (no trade, all domestic production)\n",
    "up_countries_CHN_aut = 'up_countries_CHN_aut.csv' # China under autarky\n",
    "up_countries_KHM_aut = 'up_countries_KHM_aut.csv' # Cambodia under autarky\n",
    "up_countries_LAO_aut = 'up_countries_LAO_aut.csv' # Lao PDR under autarky\n",
    "up_countries_MMR_aut = 'up_countries_MMR_aut.csv' # Myanmar under autarky\n",
    "up_countries_THA_aut = 'up_countries_THA_aut.csv' # Thailand under autarky\n",
    "up_countries_VNM_aut = 'up_countries_VNM_aut.csv' # Vietnam under autarky\n",
    "\n",
    "### Trade scenario 1: Furthest transportation for all inputs (transport worst case)\n",
    "up_countries_CHN_far = 'up_countries_CHN_far.csv' # China under trade scenario 1\n",
    "up_countries_KHM_far = 'up_countries_KHM_far.csv' # Cambodia under trade scenario 1\n",
    "up_countries_LAO_far = 'up_countries_LAO_far.csv' # Lao PDR under trade scenario 1\n",
    "up_countries_MMR_far = 'up_countries_MMR_far.csv' # Myanmar under trade scenario 1\n",
    "up_countries_THA_far = 'up_countries_THA_far.csv' # Thailand under trade scenario 1\n",
    "up_countries_VNM_far = 'up_countries_VNM_far.csv' # Vietnam under trade scenario 1\n",
    "\n",
    "### Trade scenario 2: Closest (non-domestic) transportation for all inputs (transport best case)\n",
    "up_countries_CHN_close = 'up_countries_CHN_close.csv' # China under trade scenario 2\n",
    "up_countries_KHM_close = 'up_countries_KHM_close.csv' # Cambodia under trade scenario 2\n",
    "up_countries_LAO_close = 'up_countries_LAO_close.csv' # Lao PDR under trade scenario 2\n",
    "up_countries_MMR_close = 'up_countries_MMR_close.csv' # Myanmar under trade scenario 2\n",
    "up_countries_THA_close = 'up_countries_THA_close.csv' # Thailand under trade scenario 2\n",
    "up_countries_VNM_close = 'up_countries_VNM_close.csv' # Vietnam under trade scenario 2\n",
    "\n",
    "### Trade scenario 3: Most carbon-intensive energy mix for all inputs (emissions worst case)\n",
    "up_countries_CHN_maxemiss = 'up_countries_CHN_maxemiss.csv' # China under trade scenario 3\n",
    "up_countries_KHM_maxemiss = 'up_countries_KHM_maxemiss.csv' # Cambodia under trade scenario 3\n",
    "up_countries_LAO_maxemiss = 'up_countries_LAO_maxemiss.csv' # Lao PDR under trade scenario 3\n",
    "up_countries_MMR_maxemiss = 'up_countries_MMR_maxemiss.csv' # Myanmar under trade scenario 3\n",
    "up_countries_THA_maxemiss = 'up_countries_THA_maxemiss.csv' # Thailand under trade scenario 3\n",
    "up_countries_VNM_maxemiss = 'up_countries_VNM_maxemiss.csv' # Vietnam under trade scenario 3\n",
    "\n",
    "### Trade scenario 4: Least carbon-intensive (non-domestic) energy mix for all inputs (emissions best case)\n",
    "up_countries_CHN_minemiss = 'up_countries_CHN_minemiss.csv' # China under trade scenario 4\n",
    "up_countries_KHM_minemiss = 'up_countries_KHM_minemiss.csv' # Cambodia under trade scenario 4\n",
    "up_countries_LAO_minemiss = 'up_countries_LAO_minemiss.csv' # Lao PDR under trade scenario 4\n",
    "up_countries_MMR_minemiss = 'up_countries_MMR_minemiss.csv' # Myanmar under trade scenario 4\n",
    "up_countries_THA_minemiss = 'up_countries_THA_minemiss.csv' # Thailand under trade scenario 4\n",
    "up_countries_VNM_minemiss = 'up_countries_VNM_minemiss.csv' # Vietnam under trade scenario 4"
   ]
  },
  {
   "cell_type": "markdown",
   "metadata": {},
   "source": [
    "# Modeling"
   ]
  },
  {
   "cell_type": "markdown",
   "metadata": {},
   "source": [
    "## China Models"
   ]
  },
  {
   "cell_type": "markdown",
   "metadata": {},
   "source": [
    "### Scenario 1: Autarky"
   ]
  },
  {
   "cell_type": "code",
   "execution_count": 6,
   "metadata": {
    "ExecuteTime": {
     "end_time": "2019-10-10T18:05:49.180123Z",
     "start_time": "2019-10-10T18:05:48.526473Z"
    }
   },
   "outputs": [
    {
     "name": "stderr",
     "output_type": "stream",
     "text": [
      "C:\\Users\\Cory\\Python\\HSR-LCA\\HSRLCA\\hsrlca\\calc.py:171: FutureWarning: The 'get_values' method is deprecated and will be removed in a future version. Use '.values' or 'np.asarray(..)' instead.\n",
      "  up_emissions_complete.loc['electricity_generation'] = energy_mix_emissions.get_values()\n"
     ]
    }
   ],
   "source": [
    "CHN_aut = model.Scenario('China')\n",
    "\n",
    "CHN_aut.set_data(data_dir,\n",
    "                 up_inputs_base,\n",
    "                 up_emissions_base,\n",
    "                 national_energy_supply,\n",
    "                 unit_energy_emissions,\n",
    "                 emissions_eq_conversion,\n",
    "                 trade_distances,\n",
    "                 rail_allocation)\n",
    "\n",
    "CHN_aut.set_scenario(up_countries_CHN_aut)\n",
    "\n",
    "CHN_aut.set_norm_params(avg_train_capacity,\n",
    "                        avg_train_capacity_filled,\n",
    "                        avg_daily_trips_per_train,\n",
    "                        avg_train_trip_distance,\n",
    "                        avg_train_lifespan,\n",
    "                        avg_number_active_trains,\n",
    "                        avg_train_mass,\n",
    "                        avg_infrastructure_lifespan,\n",
    "                        avg_pct_ballasted_track,\n",
    "                        days)\n",
    "\n",
    "CHN_aut.make_trade_schedule()\n",
    "CHN_aut.make_transport_schedule()\n",
    "CHN_aut.update_inputs_transportation()\n",
    "CHN_aut.get_energy_mix()\n",
    "CHN_aut.get_energy_mix_emissions()\n",
    "CHN_aut.update_emissions()\n",
    "CHN_aut.update_inputs_electricity()\n",
    "CHN_aut.update_inputs_passengers()\n",
    "CHN_aut.make_emissions_schedule()\n",
    "CHN_aut.get_total_requirements()\n",
    "CHN_aut.get_total_emissions()\n",
    "CHN_aut.get_phase_results()\n",
    "CHN_aut.get_condensed_results()\n",
    "CHN_aut.get_total_phase_impacts()\n",
    "CHN_aut.get_total_lifetime_impacts()"
   ]
  },
  {
   "cell_type": "markdown",
   "metadata": {},
   "source": [
    "### Scenario 2: All Trade via Longest Trade Route"
   ]
  },
  {
   "cell_type": "code",
   "execution_count": 7,
   "metadata": {
    "ExecuteTime": {
     "end_time": "2019-10-10T18:05:49.715715Z",
     "start_time": "2019-10-10T18:05:49.183082Z"
    }
   },
   "outputs": [],
   "source": [
    "CHN_far = model.Scenario('China')\n",
    "\n",
    "CHN_far.set_data(data_dir,\n",
    "                 up_inputs_base,\n",
    "                 up_emissions_base,\n",
    "                 national_energy_supply,\n",
    "                 unit_energy_emissions,\n",
    "                 emissions_eq_conversion,\n",
    "                 trade_distances,\n",
    "                 rail_allocation)\n",
    "\n",
    "CHN_far.set_scenario(up_countries_CHN_far)\n",
    "\n",
    "CHN_far.set_norm_params(avg_train_capacity,\n",
    "                        avg_train_capacity_filled,\n",
    "                        avg_daily_trips_per_train,\n",
    "                        avg_train_trip_distance,\n",
    "                        avg_train_lifespan,\n",
    "                        avg_number_active_trains,\n",
    "                        avg_train_mass,\n",
    "                        avg_infrastructure_lifespan,\n",
    "                        avg_pct_ballasted_track,\n",
    "                        days)\n",
    "\n",
    "CHN_far.make_trade_schedule()\n",
    "CHN_far.make_transport_schedule()\n",
    "CHN_far.update_inputs_transportation()\n",
    "CHN_far.get_energy_mix()\n",
    "CHN_far.get_energy_mix_emissions()\n",
    "CHN_far.update_emissions()\n",
    "CHN_far.update_inputs_electricity()\n",
    "CHN_far.update_inputs_passengers()\n",
    "CHN_far.make_emissions_schedule()\n",
    "CHN_far.get_total_requirements()\n",
    "CHN_far.get_total_emissions()\n",
    "CHN_far.get_phase_results()\n",
    "CHN_far.get_condensed_results()\n",
    "CHN_far.get_total_phase_impacts()\n",
    "CHN_far.get_total_lifetime_impacts()"
   ]
  },
  {
   "cell_type": "markdown",
   "metadata": {},
   "source": [
    "### Scenario 3: All Trade via Shortest Trade Route"
   ]
  },
  {
   "cell_type": "code",
   "execution_count": 8,
   "metadata": {
    "ExecuteTime": {
     "end_time": "2019-10-10T18:05:50.359463Z",
     "start_time": "2019-10-10T18:05:49.718699Z"
    }
   },
   "outputs": [],
   "source": [
    "CHN_close = model.Scenario('China')\n",
    "\n",
    "CHN_close.set_data(data_dir,\n",
    "                 up_inputs_base,\n",
    "                 up_emissions_base,\n",
    "                 national_energy_supply,\n",
    "                 unit_energy_emissions,\n",
    "                 emissions_eq_conversion,\n",
    "                 trade_distances,\n",
    "                 rail_allocation)\n",
    "\n",
    "CHN_close.set_scenario(up_countries_CHN_close)\n",
    "\n",
    "CHN_close.set_norm_params(avg_train_capacity,\n",
    "                        avg_train_capacity_filled,\n",
    "                        avg_daily_trips_per_train,\n",
    "                        avg_train_trip_distance,\n",
    "                        avg_train_lifespan,\n",
    "                        avg_number_active_trains,\n",
    "                        avg_train_mass,\n",
    "                        avg_infrastructure_lifespan,\n",
    "                        avg_pct_ballasted_track,\n",
    "                        days)\n",
    "\n",
    "CHN_close.make_trade_schedule()\n",
    "CHN_close.make_transport_schedule()\n",
    "CHN_close.update_inputs_transportation()\n",
    "CHN_close.get_energy_mix()\n",
    "CHN_close.get_energy_mix_emissions()\n",
    "CHN_close.update_emissions()\n",
    "CHN_close.update_inputs_electricity()\n",
    "CHN_close.update_inputs_passengers()\n",
    "CHN_close.make_emissions_schedule()\n",
    "CHN_close.get_total_requirements()\n",
    "CHN_close.get_total_emissions()\n",
    "CHN_close.get_phase_results()\n",
    "CHN_close.get_condensed_results()\n",
    "CHN_close.get_total_phase_impacts()\n",
    "CHN_close.get_total_lifetime_impacts()"
   ]
  },
  {
   "cell_type": "markdown",
   "metadata": {},
   "source": [
    "### Scenario 4: All Trade with Country with Highest-Emission (CO2) Energy Mix"
   ]
  },
  {
   "cell_type": "code",
   "execution_count": 9,
   "metadata": {
    "ExecuteTime": {
     "end_time": "2019-10-10T18:05:50.894503Z",
     "start_time": "2019-10-10T18:05:50.362455Z"
    }
   },
   "outputs": [],
   "source": [
    "CHN_maxemiss = model.Scenario('China')\n",
    "\n",
    "CHN_maxemiss.set_data(data_dir,\n",
    "                 up_inputs_base,\n",
    "                 up_emissions_base,\n",
    "                 national_energy_supply,\n",
    "                 unit_energy_emissions,\n",
    "                 emissions_eq_conversion,\n",
    "                 trade_distances,\n",
    "                 rail_allocation)\n",
    "\n",
    "CHN_maxemiss.set_scenario(up_countries_CHN_maxemiss)\n",
    "\n",
    "CHN_maxemiss.set_norm_params(avg_train_capacity,\n",
    "                        avg_train_capacity_filled,\n",
    "                        avg_daily_trips_per_train,\n",
    "                        avg_train_trip_distance,\n",
    "                        avg_train_lifespan,\n",
    "                        avg_number_active_trains,\n",
    "                        avg_train_mass,\n",
    "                        avg_infrastructure_lifespan,\n",
    "                        avg_pct_ballasted_track,\n",
    "                        days)\n",
    "\n",
    "CHN_maxemiss.make_trade_schedule()\n",
    "CHN_maxemiss.make_transport_schedule()\n",
    "CHN_maxemiss.update_inputs_transportation()\n",
    "CHN_maxemiss.get_energy_mix()\n",
    "CHN_maxemiss.get_energy_mix_emissions()\n",
    "CHN_maxemiss.update_emissions()\n",
    "CHN_maxemiss.update_inputs_electricity()\n",
    "CHN_maxemiss.update_inputs_passengers()\n",
    "CHN_maxemiss.make_emissions_schedule()\n",
    "CHN_maxemiss.get_total_requirements()\n",
    "CHN_maxemiss.get_total_emissions()\n",
    "CHN_maxemiss.get_phase_results()\n",
    "CHN_maxemiss.get_condensed_results()\n",
    "CHN_maxemiss.get_total_phase_impacts()\n",
    "CHN_maxemiss.get_total_lifetime_impacts()"
   ]
  },
  {
   "cell_type": "markdown",
   "metadata": {},
   "source": [
    "### Scenario 5: All Trade with Country with Lowest-Emission (CO2) Energy Mix"
   ]
  },
  {
   "cell_type": "code",
   "execution_count": 10,
   "metadata": {
    "ExecuteTime": {
     "end_time": "2019-10-10T18:05:51.421587Z",
     "start_time": "2019-10-10T18:05:50.895180Z"
    }
   },
   "outputs": [],
   "source": [
    "CHN_minemiss = model.Scenario('China')\n",
    "\n",
    "CHN_minemiss.set_data(data_dir,\n",
    "                 up_inputs_base,\n",
    "                 up_emissions_base,\n",
    "                 national_energy_supply,\n",
    "                 unit_energy_emissions,\n",
    "                 emissions_eq_conversion,\n",
    "                 trade_distances,\n",
    "                 rail_allocation)\n",
    "\n",
    "CHN_minemiss.set_scenario(up_countries_CHN_minemiss)\n",
    "\n",
    "CHN_minemiss.set_norm_params(avg_train_capacity,\n",
    "                        avg_train_capacity_filled,\n",
    "                        avg_daily_trips_per_train,\n",
    "                        avg_train_trip_distance,\n",
    "                        avg_train_lifespan,\n",
    "                        avg_number_active_trains,\n",
    "                        avg_train_mass,\n",
    "                        avg_infrastructure_lifespan,\n",
    "                        avg_pct_ballasted_track,\n",
    "                        days)\n",
    "\n",
    "CHN_minemiss.make_trade_schedule()\n",
    "CHN_minemiss.make_transport_schedule()\n",
    "CHN_minemiss.update_inputs_transportation()\n",
    "CHN_minemiss.get_energy_mix()\n",
    "CHN_minemiss.get_energy_mix_emissions()\n",
    "CHN_minemiss.update_emissions()\n",
    "CHN_minemiss.update_inputs_electricity()\n",
    "CHN_minemiss.update_inputs_passengers()\n",
    "CHN_minemiss.make_emissions_schedule()\n",
    "CHN_minemiss.get_total_requirements()\n",
    "CHN_minemiss.get_total_emissions()\n",
    "CHN_minemiss.get_phase_results()\n",
    "CHN_minemiss.get_condensed_results()\n",
    "CHN_minemiss.get_total_phase_impacts()\n",
    "CHN_minemiss.get_total_lifetime_impacts()"
   ]
  },
  {
   "cell_type": "markdown",
   "metadata": {},
   "source": [
    "## Cambodia Models"
   ]
  },
  {
   "cell_type": "markdown",
   "metadata": {},
   "source": [
    "### Scenario 1: Autarky"
   ]
  },
  {
   "cell_type": "code",
   "execution_count": 11,
   "metadata": {
    "ExecuteTime": {
     "end_time": "2019-10-10T18:05:51.889266Z",
     "start_time": "2019-10-10T18:05:51.422330Z"
    }
   },
   "outputs": [],
   "source": [
    "KHM_aut = model.Scenario('Cambodia', verbose=False)\n",
    "\n",
    "KHM_aut.set_data(data_dir,\n",
    "                 up_inputs_base,\n",
    "                 up_emissions_base,\n",
    "                 national_energy_supply,\n",
    "                 unit_energy_emissions,\n",
    "                 emissions_eq_conversion,\n",
    "                 trade_distances,\n",
    "                 rail_allocation)\n",
    "\n",
    "KHM_aut.set_scenario(up_countries_KHM_aut)\n",
    "\n",
    "KHM_aut.set_norm_params(avg_train_capacity,\n",
    "                        avg_train_capacity_filled,\n",
    "                        avg_daily_trips_per_train,\n",
    "                        avg_train_trip_distance,\n",
    "                        avg_train_lifespan,\n",
    "                        avg_number_active_trains,\n",
    "                        avg_train_mass,\n",
    "                        avg_infrastructure_lifespan,\n",
    "                        avg_pct_ballasted_track,\n",
    "                        days)\n",
    "\n",
    "KHM_aut.make_trade_schedule()\n",
    "KHM_aut.make_transport_schedule()\n",
    "KHM_aut.update_inputs_transportation()\n",
    "KHM_aut.get_energy_mix()\n",
    "KHM_aut.get_energy_mix_emissions()\n",
    "KHM_aut.update_emissions()\n",
    "KHM_aut.update_inputs_electricity()\n",
    "KHM_aut.update_inputs_passengers()\n",
    "KHM_aut.make_emissions_schedule()\n",
    "KHM_aut.get_total_requirements()\n",
    "KHM_aut.get_total_emissions()\n",
    "KHM_aut.get_phase_results()\n",
    "KHM_aut.get_condensed_results()\n",
    "KHM_aut.get_total_phase_impacts()\n",
    "KHM_aut.get_total_lifetime_impacts()"
   ]
  },
  {
   "cell_type": "markdown",
   "metadata": {},
   "source": [
    "### Scenario 2: All Trade via Longest Trade Route"
   ]
  },
  {
   "cell_type": "code",
   "execution_count": 12,
   "metadata": {
    "ExecuteTime": {
     "end_time": "2019-10-10T18:05:52.390247Z",
     "start_time": "2019-10-10T18:05:51.890267Z"
    }
   },
   "outputs": [],
   "source": [
    "KHM_far = model.Scenario('Cambodia', verbose=False)\n",
    "\n",
    "KHM_far.set_data(data_dir,\n",
    "                 up_inputs_base,\n",
    "                 up_emissions_base,\n",
    "                 national_energy_supply,\n",
    "                 unit_energy_emissions,\n",
    "                 emissions_eq_conversion,\n",
    "                 trade_distances,\n",
    "                 rail_allocation)\n",
    "\n",
    "KHM_far.set_scenario(up_countries_KHM_far)\n",
    "\n",
    "KHM_far.set_norm_params(avg_train_capacity,\n",
    "                        avg_train_capacity_filled,\n",
    "                        avg_daily_trips_per_train,\n",
    "                        avg_train_trip_distance,\n",
    "                        avg_train_lifespan,\n",
    "                        avg_number_active_trains,\n",
    "                        avg_train_mass,\n",
    "                        avg_infrastructure_lifespan,\n",
    "                        avg_pct_ballasted_track,\n",
    "                        days)\n",
    "\n",
    "KHM_far.make_trade_schedule()\n",
    "KHM_far.make_transport_schedule()\n",
    "KHM_far.update_inputs_transportation()\n",
    "KHM_far.get_energy_mix()\n",
    "KHM_far.get_energy_mix_emissions()\n",
    "KHM_far.update_emissions()\n",
    "KHM_far.update_inputs_electricity()\n",
    "KHM_far.update_inputs_passengers()\n",
    "KHM_far.make_emissions_schedule()\n",
    "KHM_far.get_total_requirements()\n",
    "KHM_far.get_total_emissions()\n",
    "KHM_far.get_phase_results()\n",
    "KHM_far.get_condensed_results()\n",
    "KHM_far.get_total_phase_impacts()\n",
    "KHM_far.get_total_lifetime_impacts()"
   ]
  },
  {
   "cell_type": "markdown",
   "metadata": {},
   "source": [
    "### Scenario 3: All Trade via Shortest Trade Route"
   ]
  },
  {
   "cell_type": "code",
   "execution_count": 13,
   "metadata": {
    "ExecuteTime": {
     "end_time": "2019-10-10T18:05:52.947435Z",
     "start_time": "2019-10-10T18:05:52.390935Z"
    }
   },
   "outputs": [],
   "source": [
    "KHM_close = model.Scenario('Cambodia', verbose=False)\n",
    "\n",
    "KHM_close.set_data(data_dir,\n",
    "                 up_inputs_base,\n",
    "                 up_emissions_base,\n",
    "                 national_energy_supply,\n",
    "                 unit_energy_emissions,\n",
    "                 emissions_eq_conversion,\n",
    "                 trade_distances,\n",
    "                 rail_allocation)\n",
    "\n",
    "KHM_close.set_scenario(up_countries_KHM_close)\n",
    "\n",
    "KHM_close.set_norm_params(avg_train_capacity,\n",
    "                        avg_train_capacity_filled,\n",
    "                        avg_daily_trips_per_train,\n",
    "                        avg_train_trip_distance,\n",
    "                        avg_train_lifespan,\n",
    "                        avg_number_active_trains,\n",
    "                        avg_train_mass,\n",
    "                        avg_infrastructure_lifespan,\n",
    "                        avg_pct_ballasted_track,\n",
    "                        days)\n",
    "\n",
    "KHM_close.make_trade_schedule()\n",
    "KHM_close.make_transport_schedule()\n",
    "KHM_close.update_inputs_transportation()\n",
    "KHM_close.get_energy_mix()\n",
    "KHM_close.get_energy_mix_emissions()\n",
    "KHM_close.update_emissions()\n",
    "KHM_close.update_inputs_electricity()\n",
    "KHM_close.update_inputs_passengers()\n",
    "KHM_close.make_emissions_schedule()\n",
    "KHM_close.get_total_requirements()\n",
    "KHM_close.get_total_emissions()\n",
    "KHM_close.get_phase_results()\n",
    "KHM_close.get_condensed_results()\n",
    "KHM_close.get_total_phase_impacts()\n",
    "KHM_close.get_total_lifetime_impacts()"
   ]
  },
  {
   "cell_type": "markdown",
   "metadata": {},
   "source": [
    "### Scenario 4: All Trade with Country with Highest-Emission (CO2) Energy Mix"
   ]
  },
  {
   "cell_type": "code",
   "execution_count": 14,
   "metadata": {
    "ExecuteTime": {
     "end_time": "2019-10-10T18:05:53.521465Z",
     "start_time": "2019-10-10T18:05:52.948432Z"
    }
   },
   "outputs": [],
   "source": [
    "KHM_maxemiss = model.Scenario('Cambodia', verbose=False)\n",
    "\n",
    "KHM_maxemiss.set_data(data_dir,\n",
    "                 up_inputs_base,\n",
    "                 up_emissions_base,\n",
    "                 national_energy_supply,\n",
    "                 unit_energy_emissions,\n",
    "                 emissions_eq_conversion,\n",
    "                 trade_distances,\n",
    "                 rail_allocation)\n",
    "\n",
    "KHM_maxemiss.set_scenario(up_countries_KHM_maxemiss)\n",
    "\n",
    "KHM_maxemiss.set_norm_params(avg_train_capacity,\n",
    "                        avg_train_capacity_filled,\n",
    "                        avg_daily_trips_per_train,\n",
    "                        avg_train_trip_distance,\n",
    "                        avg_train_lifespan,\n",
    "                        avg_number_active_trains,\n",
    "                        avg_train_mass,\n",
    "                        avg_infrastructure_lifespan,\n",
    "                        avg_pct_ballasted_track,\n",
    "                        days)\n",
    "\n",
    "KHM_maxemiss.make_trade_schedule()\n",
    "KHM_maxemiss.make_transport_schedule()\n",
    "KHM_maxemiss.update_inputs_transportation()\n",
    "KHM_maxemiss.get_energy_mix()\n",
    "KHM_maxemiss.get_energy_mix_emissions()\n",
    "KHM_maxemiss.update_emissions()\n",
    "KHM_maxemiss.update_inputs_electricity()\n",
    "KHM_maxemiss.update_inputs_passengers()\n",
    "KHM_maxemiss.make_emissions_schedule()\n",
    "KHM_maxemiss.get_total_requirements()\n",
    "KHM_maxemiss.get_total_emissions()\n",
    "KHM_maxemiss.get_phase_results()\n",
    "KHM_maxemiss.get_condensed_results()\n",
    "KHM_maxemiss.get_total_phase_impacts()\n",
    "KHM_maxemiss.get_total_lifetime_impacts()"
   ]
  },
  {
   "cell_type": "markdown",
   "metadata": {},
   "source": [
    "### Scenario 5: All Trade with Country with Lowest-Emission (CO2) Energy Mix"
   ]
  },
  {
   "cell_type": "code",
   "execution_count": 15,
   "metadata": {
    "ExecuteTime": {
     "end_time": "2019-10-10T18:05:54.019253Z",
     "start_time": "2019-10-10T18:05:53.522403Z"
    }
   },
   "outputs": [],
   "source": [
    "KHM_minemiss = model.Scenario('Cambodia', verbose=False)\n",
    "\n",
    "KHM_minemiss.set_data(data_dir,\n",
    "                 up_inputs_base,\n",
    "                 up_emissions_base,\n",
    "                 national_energy_supply,\n",
    "                 unit_energy_emissions,\n",
    "                 emissions_eq_conversion,\n",
    "                 trade_distances,\n",
    "                 rail_allocation)\n",
    "\n",
    "KHM_minemiss.set_scenario(up_countries_KHM_minemiss)\n",
    "\n",
    "KHM_minemiss.set_norm_params(avg_train_capacity,\n",
    "                        avg_train_capacity_filled,\n",
    "                        avg_daily_trips_per_train,\n",
    "                        avg_train_trip_distance,\n",
    "                        avg_train_lifespan,\n",
    "                        avg_number_active_trains,\n",
    "                        avg_train_mass,\n",
    "                        avg_infrastructure_lifespan,\n",
    "                        avg_pct_ballasted_track,\n",
    "                        days)\n",
    "\n",
    "KHM_minemiss.make_trade_schedule()\n",
    "KHM_minemiss.make_transport_schedule()\n",
    "KHM_minemiss.update_inputs_transportation()\n",
    "KHM_minemiss.get_energy_mix()\n",
    "KHM_minemiss.get_energy_mix_emissions()\n",
    "KHM_minemiss.update_emissions()\n",
    "KHM_minemiss.update_inputs_electricity()\n",
    "KHM_minemiss.update_inputs_passengers()\n",
    "KHM_minemiss.make_emissions_schedule()\n",
    "KHM_minemiss.get_total_requirements()\n",
    "KHM_minemiss.get_total_emissions()\n",
    "KHM_minemiss.get_phase_results()\n",
    "KHM_minemiss.get_condensed_results()\n",
    "KHM_minemiss.get_total_phase_impacts()\n",
    "KHM_minemiss.get_total_lifetime_impacts()"
   ]
  },
  {
   "cell_type": "markdown",
   "metadata": {},
   "source": [
    "## Lao PDR Models"
   ]
  },
  {
   "cell_type": "markdown",
   "metadata": {},
   "source": [
    "### Scenario 1: Autarky"
   ]
  },
  {
   "cell_type": "code",
   "execution_count": 16,
   "metadata": {
    "ExecuteTime": {
     "end_time": "2019-10-10T18:05:54.539635Z",
     "start_time": "2019-10-10T18:05:54.020204Z"
    }
   },
   "outputs": [],
   "source": [
    "LAO_aut = model.Scenario('LaoPDR')\n",
    "\n",
    "LAO_aut.set_data(data_dir,\n",
    "                 up_inputs_base,\n",
    "                 up_emissions_base,\n",
    "                 national_energy_supply,\n",
    "                 unit_energy_emissions,\n",
    "                 emissions_eq_conversion,\n",
    "                 trade_distances,\n",
    "                 rail_allocation)\n",
    "\n",
    "LAO_aut.set_scenario(up_countries_LAO_aut)\n",
    "\n",
    "LAO_aut.set_norm_params(avg_train_capacity,\n",
    "                        avg_train_capacity_filled,\n",
    "                        avg_daily_trips_per_train,\n",
    "                        avg_train_trip_distance,\n",
    "                        avg_train_lifespan,\n",
    "                        avg_number_active_trains,\n",
    "                        avg_train_mass,\n",
    "                        avg_infrastructure_lifespan,\n",
    "                        avg_pct_ballasted_track,\n",
    "                        days)\n",
    "\n",
    "LAO_aut.make_trade_schedule()\n",
    "LAO_aut.make_transport_schedule()\n",
    "LAO_aut.update_inputs_transportation()\n",
    "LAO_aut.get_energy_mix()\n",
    "LAO_aut.get_energy_mix_emissions()\n",
    "LAO_aut.update_emissions()\n",
    "LAO_aut.update_inputs_electricity()\n",
    "LAO_aut.update_inputs_passengers()\n",
    "LAO_aut.make_emissions_schedule()\n",
    "LAO_aut.get_total_requirements()\n",
    "LAO_aut.get_total_emissions()\n",
    "LAO_aut.get_phase_results()\n",
    "LAO_aut.get_condensed_results()\n",
    "LAO_aut.get_total_phase_impacts()\n",
    "LAO_aut.get_total_lifetime_impacts()"
   ]
  },
  {
   "cell_type": "markdown",
   "metadata": {},
   "source": [
    "### Scenario 2: All Trade via Longest Trade Route"
   ]
  },
  {
   "cell_type": "code",
   "execution_count": 17,
   "metadata": {
    "ExecuteTime": {
     "end_time": "2019-10-10T18:05:55.047486Z",
     "start_time": "2019-10-10T18:05:54.541235Z"
    }
   },
   "outputs": [],
   "source": [
    "LAO_far = model.Scenario('LaoPDR')\n",
    "\n",
    "LAO_far.set_data(data_dir,\n",
    "                 up_inputs_base,\n",
    "                 up_emissions_base,\n",
    "                 national_energy_supply,\n",
    "                 unit_energy_emissions,\n",
    "                 emissions_eq_conversion,\n",
    "                 trade_distances,\n",
    "                 rail_allocation)\n",
    "\n",
    "LAO_far.set_scenario(up_countries_LAO_far)\n",
    "\n",
    "LAO_far.set_norm_params(avg_train_capacity,\n",
    "                        avg_train_capacity_filled,\n",
    "                        avg_daily_trips_per_train,\n",
    "                        avg_train_trip_distance,\n",
    "                        avg_train_lifespan,\n",
    "                        avg_number_active_trains,\n",
    "                        avg_train_mass,\n",
    "                        avg_infrastructure_lifespan,\n",
    "                        avg_pct_ballasted_track,\n",
    "                        days)\n",
    "\n",
    "LAO_far.make_trade_schedule()\n",
    "LAO_far.make_transport_schedule()\n",
    "LAO_far.update_inputs_transportation()\n",
    "LAO_far.get_energy_mix()\n",
    "LAO_far.get_energy_mix_emissions()\n",
    "LAO_far.update_emissions()\n",
    "LAO_far.update_inputs_electricity()\n",
    "LAO_far.update_inputs_passengers()\n",
    "LAO_far.make_emissions_schedule()\n",
    "LAO_far.get_total_requirements()\n",
    "LAO_far.get_total_emissions()\n",
    "LAO_far.get_phase_results()\n",
    "LAO_far.get_condensed_results()\n",
    "LAO_far.get_total_phase_impacts()\n",
    "LAO_far.get_total_lifetime_impacts()"
   ]
  },
  {
   "cell_type": "markdown",
   "metadata": {},
   "source": [
    "### Scenario 3: All Trade via Shortest Trade Route"
   ]
  },
  {
   "cell_type": "code",
   "execution_count": 18,
   "metadata": {
    "ExecuteTime": {
     "end_time": "2019-10-10T18:05:55.563673Z",
     "start_time": "2019-10-10T18:05:55.049331Z"
    }
   },
   "outputs": [],
   "source": [
    "LAO_close = model.Scenario('LaoPDR')\n",
    "\n",
    "LAO_close.set_data(data_dir,\n",
    "                 up_inputs_base,\n",
    "                 up_emissions_base,\n",
    "                 national_energy_supply,\n",
    "                 unit_energy_emissions,\n",
    "                 emissions_eq_conversion,\n",
    "                 trade_distances,\n",
    "                 rail_allocation)\n",
    "\n",
    "LAO_close.set_scenario(up_countries_LAO_close)\n",
    "\n",
    "LAO_close.set_norm_params(avg_train_capacity,\n",
    "                        avg_train_capacity_filled,\n",
    "                        avg_daily_trips_per_train,\n",
    "                        avg_train_trip_distance,\n",
    "                        avg_train_lifespan,\n",
    "                        avg_number_active_trains,\n",
    "                        avg_train_mass,\n",
    "                        avg_infrastructure_lifespan,\n",
    "                        avg_pct_ballasted_track,\n",
    "                        days)\n",
    "\n",
    "LAO_close.make_trade_schedule()\n",
    "LAO_close.make_transport_schedule()\n",
    "LAO_close.update_inputs_transportation()\n",
    "LAO_close.get_energy_mix()\n",
    "LAO_close.get_energy_mix_emissions()\n",
    "LAO_close.update_emissions()\n",
    "LAO_close.update_inputs_electricity()\n",
    "LAO_close.update_inputs_passengers()\n",
    "LAO_close.make_emissions_schedule()\n",
    "LAO_close.get_total_requirements()\n",
    "LAO_close.get_total_emissions()\n",
    "LAO_close.get_phase_results()\n",
    "LAO_close.get_condensed_results()\n",
    "LAO_close.get_total_phase_impacts()\n",
    "LAO_close.get_total_lifetime_impacts()"
   ]
  },
  {
   "cell_type": "markdown",
   "metadata": {},
   "source": [
    "### Scenario 4: All Trade with Country with Highest-Emission (CO2) Energy Mix"
   ]
  },
  {
   "cell_type": "code",
   "execution_count": 19,
   "metadata": {
    "ExecuteTime": {
     "end_time": "2019-10-10T18:05:56.073294Z",
     "start_time": "2019-10-10T18:05:55.565373Z"
    }
   },
   "outputs": [],
   "source": [
    "LAO_maxemiss = model.Scenario('LaoPDR')\n",
    "\n",
    "LAO_maxemiss.set_data(data_dir,\n",
    "                 up_inputs_base,\n",
    "                 up_emissions_base,\n",
    "                 national_energy_supply,\n",
    "                 unit_energy_emissions,\n",
    "                 emissions_eq_conversion,\n",
    "                 trade_distances,\n",
    "                 rail_allocation)\n",
    "\n",
    "LAO_maxemiss.set_scenario(up_countries_LAO_maxemiss)\n",
    "\n",
    "LAO_maxemiss.set_norm_params(avg_train_capacity,\n",
    "                        avg_train_capacity_filled,\n",
    "                        avg_daily_trips_per_train,\n",
    "                        avg_train_trip_distance,\n",
    "                        avg_train_lifespan,\n",
    "                        avg_number_active_trains,\n",
    "                        avg_train_mass,\n",
    "                        avg_infrastructure_lifespan,\n",
    "                        avg_pct_ballasted_track,\n",
    "                        days)\n",
    "\n",
    "LAO_maxemiss.make_trade_schedule()\n",
    "LAO_maxemiss.make_transport_schedule()\n",
    "LAO_maxemiss.update_inputs_transportation()\n",
    "LAO_maxemiss.get_energy_mix()\n",
    "LAO_maxemiss.get_energy_mix_emissions()\n",
    "LAO_maxemiss.update_emissions()\n",
    "LAO_maxemiss.update_inputs_electricity()\n",
    "LAO_maxemiss.update_inputs_passengers()\n",
    "LAO_maxemiss.make_emissions_schedule()\n",
    "LAO_maxemiss.get_total_requirements()\n",
    "LAO_maxemiss.get_total_emissions()\n",
    "LAO_maxemiss.get_phase_results()\n",
    "LAO_maxemiss.get_condensed_results()\n",
    "LAO_maxemiss.get_total_phase_impacts()\n",
    "LAO_maxemiss.get_total_lifetime_impacts()"
   ]
  },
  {
   "cell_type": "markdown",
   "metadata": {},
   "source": [
    "### Scenario 5: All Trade with Country with Lowest-Emission (CO2) Energy Mix"
   ]
  },
  {
   "cell_type": "code",
   "execution_count": 20,
   "metadata": {
    "ExecuteTime": {
     "end_time": "2019-10-10T18:05:56.576503Z",
     "start_time": "2019-10-10T18:05:56.074298Z"
    }
   },
   "outputs": [],
   "source": [
    "LAO_minemiss = model.Scenario('LaoPDR')\n",
    "\n",
    "LAO_minemiss.set_data(data_dir,\n",
    "                 up_inputs_base,\n",
    "                 up_emissions_base,\n",
    "                 national_energy_supply,\n",
    "                 unit_energy_emissions,\n",
    "                 emissions_eq_conversion,\n",
    "                 trade_distances,\n",
    "                 rail_allocation)\n",
    "\n",
    "LAO_minemiss.set_scenario(up_countries_LAO_minemiss)\n",
    "\n",
    "LAO_minemiss.set_norm_params(avg_train_capacity,\n",
    "                        avg_train_capacity_filled,\n",
    "                        avg_daily_trips_per_train,\n",
    "                        avg_train_trip_distance,\n",
    "                        avg_train_lifespan,\n",
    "                        avg_number_active_trains,\n",
    "                        avg_train_mass,\n",
    "                        avg_infrastructure_lifespan,\n",
    "                        avg_pct_ballasted_track,\n",
    "                        days)\n",
    "\n",
    "LAO_minemiss.make_trade_schedule()\n",
    "LAO_minemiss.make_transport_schedule()\n",
    "LAO_minemiss.update_inputs_transportation()\n",
    "LAO_minemiss.get_energy_mix()\n",
    "LAO_minemiss.get_energy_mix_emissions()\n",
    "LAO_minemiss.update_emissions()\n",
    "LAO_minemiss.update_inputs_electricity()\n",
    "LAO_minemiss.update_inputs_passengers()\n",
    "LAO_minemiss.make_emissions_schedule()\n",
    "LAO_minemiss.get_total_requirements()\n",
    "LAO_minemiss.get_total_emissions()\n",
    "LAO_minemiss.get_phase_results()\n",
    "LAO_minemiss.get_condensed_results()\n",
    "LAO_minemiss.get_total_phase_impacts()\n",
    "LAO_minemiss.get_total_lifetime_impacts()"
   ]
  },
  {
   "cell_type": "markdown",
   "metadata": {},
   "source": [
    "## Myanmar Models"
   ]
  },
  {
   "cell_type": "markdown",
   "metadata": {},
   "source": [
    "### Scenario 1: Autarky"
   ]
  },
  {
   "cell_type": "code",
   "execution_count": 21,
   "metadata": {
    "ExecuteTime": {
     "end_time": "2019-10-10T18:05:57.105590Z",
     "start_time": "2019-10-10T18:05:56.578178Z"
    }
   },
   "outputs": [],
   "source": [
    "MMR_aut = model.Scenario('Myanmar')\n",
    "\n",
    "MMR_aut.set_data(data_dir,\n",
    "                 up_inputs_base,\n",
    "                 up_emissions_base,\n",
    "                 national_energy_supply,\n",
    "                 unit_energy_emissions,\n",
    "                 emissions_eq_conversion,\n",
    "                 trade_distances,\n",
    "                 rail_allocation)\n",
    "\n",
    "MMR_aut.set_scenario(up_countries_MMR_aut)\n",
    "\n",
    "MMR_aut.set_norm_params(avg_train_capacity,\n",
    "                        avg_train_capacity_filled,\n",
    "                        avg_daily_trips_per_train,\n",
    "                        avg_train_trip_distance,\n",
    "                        avg_train_lifespan,\n",
    "                        avg_number_active_trains,\n",
    "                        avg_train_mass,\n",
    "                        avg_infrastructure_lifespan,\n",
    "                        avg_pct_ballasted_track,\n",
    "                        days)\n",
    "\n",
    "MMR_aut.make_trade_schedule()\n",
    "MMR_aut.make_transport_schedule()\n",
    "MMR_aut.update_inputs_transportation()\n",
    "MMR_aut.get_energy_mix()\n",
    "MMR_aut.get_energy_mix_emissions()\n",
    "MMR_aut.update_emissions()\n",
    "MMR_aut.update_inputs_electricity()\n",
    "MMR_aut.update_inputs_passengers()\n",
    "MMR_aut.make_emissions_schedule()\n",
    "MMR_aut.get_total_requirements()\n",
    "MMR_aut.get_total_emissions()\n",
    "MMR_aut.get_phase_results()\n",
    "MMR_aut.get_condensed_results()\n",
    "MMR_aut.get_total_phase_impacts()\n",
    "MMR_aut.get_total_lifetime_impacts()"
   ]
  },
  {
   "cell_type": "markdown",
   "metadata": {},
   "source": [
    "### Scenario 2: All Trade via Longest Trade Route"
   ]
  },
  {
   "cell_type": "code",
   "execution_count": 22,
   "metadata": {
    "ExecuteTime": {
     "end_time": "2019-10-10T18:05:57.614940Z",
     "start_time": "2019-10-10T18:05:57.106423Z"
    }
   },
   "outputs": [],
   "source": [
    "MMR_far = model.Scenario('Myanmar')\n",
    "\n",
    "MMR_far.set_data(data_dir,\n",
    "                 up_inputs_base,\n",
    "                 up_emissions_base,\n",
    "                 national_energy_supply,\n",
    "                 unit_energy_emissions,\n",
    "                 emissions_eq_conversion,\n",
    "                 trade_distances,\n",
    "                 rail_allocation)\n",
    "\n",
    "MMR_far.set_scenario(up_countries_MMR_far)\n",
    "\n",
    "MMR_far.set_norm_params(avg_train_capacity,\n",
    "                        avg_train_capacity_filled,\n",
    "                        avg_daily_trips_per_train,\n",
    "                        avg_train_trip_distance,\n",
    "                        avg_train_lifespan,\n",
    "                        avg_number_active_trains,\n",
    "                        avg_train_mass,\n",
    "                        avg_infrastructure_lifespan,\n",
    "                        avg_pct_ballasted_track,\n",
    "                        days)\n",
    "\n",
    "MMR_far.make_trade_schedule()\n",
    "MMR_far.make_transport_schedule()\n",
    "MMR_far.update_inputs_transportation()\n",
    "MMR_far.get_energy_mix()\n",
    "MMR_far.get_energy_mix_emissions()\n",
    "MMR_far.update_emissions()\n",
    "MMR_far.update_inputs_electricity()\n",
    "MMR_far.update_inputs_passengers()\n",
    "MMR_far.make_emissions_schedule()\n",
    "MMR_far.get_total_requirements()\n",
    "MMR_far.get_total_emissions()\n",
    "MMR_far.get_phase_results()\n",
    "MMR_far.get_condensed_results()\n",
    "MMR_far.get_total_phase_impacts()\n",
    "MMR_far.get_total_lifetime_impacts()"
   ]
  },
  {
   "cell_type": "markdown",
   "metadata": {},
   "source": [
    "### Scenario 3: All Trade via Shortest Trade Route"
   ]
  },
  {
   "cell_type": "code",
   "execution_count": 23,
   "metadata": {
    "ExecuteTime": {
     "end_time": "2019-10-10T18:05:58.150240Z",
     "start_time": "2019-10-10T18:05:57.618700Z"
    }
   },
   "outputs": [],
   "source": [
    "MMR_close = model.Scenario('Myanmar')\n",
    "\n",
    "MMR_close.set_data(data_dir,\n",
    "                 up_inputs_base,\n",
    "                 up_emissions_base,\n",
    "                 national_energy_supply,\n",
    "                 unit_energy_emissions,\n",
    "                 emissions_eq_conversion,\n",
    "                 trade_distances,\n",
    "                 rail_allocation)\n",
    "\n",
    "MMR_close.set_scenario(up_countries_MMR_close)\n",
    "\n",
    "MMR_close.set_norm_params(avg_train_capacity,\n",
    "                        avg_train_capacity_filled,\n",
    "                        avg_daily_trips_per_train,\n",
    "                        avg_train_trip_distance,\n",
    "                        avg_train_lifespan,\n",
    "                        avg_number_active_trains,\n",
    "                        avg_train_mass,\n",
    "                        avg_infrastructure_lifespan,\n",
    "                        avg_pct_ballasted_track,\n",
    "                        days)\n",
    "\n",
    "MMR_close.make_trade_schedule()\n",
    "MMR_close.make_transport_schedule()\n",
    "MMR_close.update_inputs_transportation()\n",
    "MMR_close.get_energy_mix()\n",
    "MMR_close.get_energy_mix_emissions()\n",
    "MMR_close.update_emissions()\n",
    "MMR_close.update_inputs_electricity()\n",
    "MMR_close.update_inputs_passengers()\n",
    "MMR_close.make_emissions_schedule()\n",
    "MMR_close.get_total_requirements()\n",
    "MMR_close.get_total_emissions()\n",
    "MMR_close.get_phase_results()\n",
    "MMR_close.get_condensed_results()\n",
    "MMR_close.get_total_phase_impacts()\n",
    "MMR_close.get_total_lifetime_impacts()"
   ]
  },
  {
   "cell_type": "markdown",
   "metadata": {},
   "source": [
    "### Scenario 4: All Trade with Country with Highest-Emission (CO2) Energy Mix"
   ]
  },
  {
   "cell_type": "code",
   "execution_count": 24,
   "metadata": {
    "ExecuteTime": {
     "end_time": "2019-10-10T18:05:58.671852Z",
     "start_time": "2019-10-10T18:05:58.151926Z"
    }
   },
   "outputs": [],
   "source": [
    "MMR_maxemiss = model.Scenario('Myanmar')\n",
    "\n",
    "MMR_maxemiss.set_data(data_dir,\n",
    "                 up_inputs_base,\n",
    "                 up_emissions_base,\n",
    "                 national_energy_supply,\n",
    "                 unit_energy_emissions,\n",
    "                 emissions_eq_conversion,\n",
    "                 trade_distances,\n",
    "                 rail_allocation)\n",
    "\n",
    "MMR_maxemiss.set_scenario(up_countries_MMR_maxemiss)\n",
    "\n",
    "MMR_maxemiss.set_norm_params(avg_train_capacity,\n",
    "                        avg_train_capacity_filled,\n",
    "                        avg_daily_trips_per_train,\n",
    "                        avg_train_trip_distance,\n",
    "                        avg_train_lifespan,\n",
    "                        avg_number_active_trains,\n",
    "                        avg_train_mass,\n",
    "                        avg_infrastructure_lifespan,\n",
    "                        avg_pct_ballasted_track,\n",
    "                        days)\n",
    "\n",
    "MMR_maxemiss.make_trade_schedule()\n",
    "MMR_maxemiss.make_transport_schedule()\n",
    "MMR_maxemiss.update_inputs_transportation()\n",
    "MMR_maxemiss.get_energy_mix()\n",
    "MMR_maxemiss.get_energy_mix_emissions()\n",
    "MMR_maxemiss.update_emissions()\n",
    "MMR_maxemiss.update_inputs_electricity()\n",
    "MMR_maxemiss.update_inputs_passengers()\n",
    "MMR_maxemiss.make_emissions_schedule()\n",
    "MMR_maxemiss.get_total_requirements()\n",
    "MMR_maxemiss.get_total_emissions()\n",
    "MMR_maxemiss.get_phase_results()\n",
    "MMR_maxemiss.get_condensed_results()\n",
    "MMR_maxemiss.get_total_phase_impacts()\n",
    "MMR_maxemiss.get_total_lifetime_impacts()"
   ]
  },
  {
   "cell_type": "markdown",
   "metadata": {},
   "source": [
    "### Scenario 5: All Trade with Country with Lowest-Emission (CO2) Energy Mix"
   ]
  },
  {
   "cell_type": "code",
   "execution_count": 25,
   "metadata": {
    "ExecuteTime": {
     "end_time": "2019-10-10T18:05:59.191537Z",
     "start_time": "2019-10-10T18:05:58.672527Z"
    }
   },
   "outputs": [],
   "source": [
    "MMR_minemiss = model.Scenario('Myanmar')\n",
    "\n",
    "MMR_minemiss.set_data(data_dir,\n",
    "                 up_inputs_base,\n",
    "                 up_emissions_base,\n",
    "                 national_energy_supply,\n",
    "                 unit_energy_emissions,\n",
    "                 emissions_eq_conversion,\n",
    "                 trade_distances,\n",
    "                 rail_allocation)\n",
    "\n",
    "MMR_minemiss.set_scenario(up_countries_MMR_minemiss)\n",
    "\n",
    "MMR_minemiss.set_norm_params(avg_train_capacity,\n",
    "                        avg_train_capacity_filled,\n",
    "                        avg_daily_trips_per_train,\n",
    "                        avg_train_trip_distance,\n",
    "                        avg_train_lifespan,\n",
    "                        avg_number_active_trains,\n",
    "                        avg_train_mass,\n",
    "                        avg_infrastructure_lifespan,\n",
    "                        avg_pct_ballasted_track,\n",
    "                        days)\n",
    "\n",
    "MMR_minemiss.make_trade_schedule()\n",
    "MMR_minemiss.make_transport_schedule()\n",
    "MMR_minemiss.update_inputs_transportation()\n",
    "MMR_minemiss.get_energy_mix()\n",
    "MMR_minemiss.get_energy_mix_emissions()\n",
    "MMR_minemiss.update_emissions()\n",
    "MMR_minemiss.update_inputs_electricity()\n",
    "MMR_minemiss.update_inputs_passengers()\n",
    "MMR_minemiss.make_emissions_schedule()\n",
    "MMR_minemiss.get_total_requirements()\n",
    "MMR_minemiss.get_total_emissions()\n",
    "MMR_minemiss.get_phase_results()\n",
    "MMR_minemiss.get_condensed_results()\n",
    "MMR_minemiss.get_total_phase_impacts()\n",
    "MMR_minemiss.get_total_lifetime_impacts()"
   ]
  },
  {
   "cell_type": "markdown",
   "metadata": {},
   "source": [
    "## Thailand Models"
   ]
  },
  {
   "cell_type": "markdown",
   "metadata": {},
   "source": [
    "### Scenario 1: Autarky"
   ]
  },
  {
   "cell_type": "code",
   "execution_count": 26,
   "metadata": {
    "ExecuteTime": {
     "end_time": "2019-10-10T18:05:59.721011Z",
     "start_time": "2019-10-10T18:05:59.192177Z"
    }
   },
   "outputs": [],
   "source": [
    "THA_aut = model.Scenario('Thailand')\n",
    "\n",
    "THA_aut.set_data(data_dir,\n",
    "                 up_inputs_base,\n",
    "                 up_emissions_base,\n",
    "                 national_energy_supply,\n",
    "                 unit_energy_emissions,\n",
    "                 emissions_eq_conversion,\n",
    "                 trade_distances,\n",
    "                 rail_allocation)\n",
    "\n",
    "THA_aut.set_scenario(up_countries_THA_aut)\n",
    "\n",
    "THA_aut.set_norm_params(avg_train_capacity,\n",
    "                        avg_train_capacity_filled,\n",
    "                        avg_daily_trips_per_train,\n",
    "                        avg_train_trip_distance,\n",
    "                        avg_train_lifespan,\n",
    "                        avg_number_active_trains,\n",
    "                        avg_train_mass,\n",
    "                        avg_infrastructure_lifespan,\n",
    "                        avg_pct_ballasted_track,\n",
    "                        days)\n",
    "\n",
    "THA_aut.make_trade_schedule()\n",
    "THA_aut.make_transport_schedule()\n",
    "THA_aut.update_inputs_transportation()\n",
    "THA_aut.get_energy_mix()\n",
    "THA_aut.get_energy_mix_emissions()\n",
    "THA_aut.update_emissions()\n",
    "THA_aut.update_inputs_electricity()\n",
    "THA_aut.update_inputs_passengers()\n",
    "THA_aut.make_emissions_schedule()\n",
    "THA_aut.get_total_requirements()\n",
    "THA_aut.get_total_emissions()\n",
    "THA_aut.get_phase_results()\n",
    "THA_aut.get_condensed_results()\n",
    "THA_aut.get_total_phase_impacts()\n",
    "THA_aut.get_total_lifetime_impacts()"
   ]
  },
  {
   "cell_type": "markdown",
   "metadata": {},
   "source": [
    "### Scenario 2: All Trade via Longest Trade Route"
   ]
  },
  {
   "cell_type": "code",
   "execution_count": 27,
   "metadata": {
    "ExecuteTime": {
     "end_time": "2019-10-10T18:06:00.227704Z",
     "start_time": "2019-10-10T18:05:59.722650Z"
    }
   },
   "outputs": [],
   "source": [
    "THA_far = model.Scenario('Thailand')\n",
    "\n",
    "THA_far.set_data(data_dir,\n",
    "                 up_inputs_base,\n",
    "                 up_emissions_base,\n",
    "                 national_energy_supply,\n",
    "                 unit_energy_emissions,\n",
    "                 emissions_eq_conversion,\n",
    "                 trade_distances,\n",
    "                 rail_allocation)\n",
    "\n",
    "THA_far.set_scenario(up_countries_THA_far)\n",
    "\n",
    "THA_far.set_norm_params(avg_train_capacity,\n",
    "                        avg_train_capacity_filled,\n",
    "                        avg_daily_trips_per_train,\n",
    "                        avg_train_trip_distance,\n",
    "                        avg_train_lifespan,\n",
    "                        avg_number_active_trains,\n",
    "                        avg_train_mass,\n",
    "                        avg_infrastructure_lifespan,\n",
    "                        avg_pct_ballasted_track,\n",
    "                        days)\n",
    "\n",
    "THA_far.make_trade_schedule()\n",
    "THA_far.make_transport_schedule()\n",
    "THA_far.update_inputs_transportation()\n",
    "THA_far.get_energy_mix()\n",
    "THA_far.get_energy_mix_emissions()\n",
    "THA_far.update_emissions()\n",
    "THA_far.update_inputs_electricity()\n",
    "THA_far.update_inputs_passengers()\n",
    "THA_far.make_emissions_schedule()\n",
    "THA_far.get_total_requirements()\n",
    "THA_far.get_total_emissions()\n",
    "THA_far.get_phase_results()\n",
    "THA_far.get_condensed_results()\n",
    "THA_far.get_total_phase_impacts()\n",
    "THA_far.get_total_lifetime_impacts()"
   ]
  },
  {
   "cell_type": "markdown",
   "metadata": {},
   "source": [
    "### Scenario 3: All Trade via Shortest Trade Route"
   ]
  },
  {
   "cell_type": "code",
   "execution_count": 28,
   "metadata": {
    "ExecuteTime": {
     "end_time": "2019-10-10T18:06:00.740891Z",
     "start_time": "2019-10-10T18:06:00.228387Z"
    }
   },
   "outputs": [],
   "source": [
    "THA_close = model.Scenario('Thailand')\n",
    "\n",
    "THA_close.set_data(data_dir,\n",
    "                 up_inputs_base,\n",
    "                 up_emissions_base,\n",
    "                 national_energy_supply,\n",
    "                 unit_energy_emissions,\n",
    "                 emissions_eq_conversion,\n",
    "                 trade_distances,\n",
    "                 rail_allocation)\n",
    "\n",
    "THA_close.set_scenario(up_countries_THA_close)\n",
    "\n",
    "THA_close.set_norm_params(avg_train_capacity,\n",
    "                        avg_train_capacity_filled,\n",
    "                        avg_daily_trips_per_train,\n",
    "                        avg_train_trip_distance,\n",
    "                        avg_train_lifespan,\n",
    "                        avg_number_active_trains,\n",
    "                        avg_train_mass,\n",
    "                        avg_infrastructure_lifespan,\n",
    "                        avg_pct_ballasted_track,\n",
    "                        days)\n",
    "\n",
    "THA_close.make_trade_schedule()\n",
    "THA_close.make_transport_schedule()\n",
    "THA_close.update_inputs_transportation()\n",
    "THA_close.get_energy_mix()\n",
    "THA_close.get_energy_mix_emissions()\n",
    "THA_close.update_emissions()\n",
    "THA_close.update_inputs_electricity()\n",
    "THA_close.update_inputs_passengers()\n",
    "THA_close.make_emissions_schedule()\n",
    "THA_close.get_total_requirements()\n",
    "THA_close.get_total_emissions()\n",
    "THA_close.get_phase_results()\n",
    "THA_close.get_condensed_results()\n",
    "THA_close.get_total_phase_impacts()\n",
    "THA_close.get_total_lifetime_impacts()"
   ]
  },
  {
   "cell_type": "markdown",
   "metadata": {},
   "source": [
    "### Scenario 4: All Trade with Country with Highest-Emission (CO2) Energy Mix"
   ]
  },
  {
   "cell_type": "code",
   "execution_count": 29,
   "metadata": {
    "ExecuteTime": {
     "end_time": "2019-10-10T18:06:01.261497Z",
     "start_time": "2019-10-10T18:06:00.741531Z"
    }
   },
   "outputs": [],
   "source": [
    "THA_maxemiss = model.Scenario('Thailand')\n",
    "\n",
    "THA_maxemiss.set_data(data_dir,\n",
    "                 up_inputs_base,\n",
    "                 up_emissions_base,\n",
    "                 national_energy_supply,\n",
    "                 unit_energy_emissions,\n",
    "                 emissions_eq_conversion,\n",
    "                 trade_distances,\n",
    "                 rail_allocation)\n",
    "\n",
    "THA_maxemiss.set_scenario(up_countries_THA_maxemiss)\n",
    "\n",
    "THA_maxemiss.set_norm_params(avg_train_capacity,\n",
    "                        avg_train_capacity_filled,\n",
    "                        avg_daily_trips_per_train,\n",
    "                        avg_train_trip_distance,\n",
    "                        avg_train_lifespan,\n",
    "                        avg_number_active_trains,\n",
    "                        avg_train_mass,\n",
    "                        avg_infrastructure_lifespan,\n",
    "                        avg_pct_ballasted_track,\n",
    "                        days)\n",
    "\n",
    "THA_maxemiss.make_trade_schedule()\n",
    "THA_maxemiss.make_transport_schedule()\n",
    "THA_maxemiss.update_inputs_transportation()\n",
    "THA_maxemiss.get_energy_mix()\n",
    "THA_maxemiss.get_energy_mix_emissions()\n",
    "THA_maxemiss.update_emissions()\n",
    "THA_maxemiss.update_inputs_electricity()\n",
    "THA_maxemiss.update_inputs_passengers()\n",
    "THA_maxemiss.make_emissions_schedule()\n",
    "THA_maxemiss.get_total_requirements()\n",
    "THA_maxemiss.get_total_emissions()\n",
    "THA_maxemiss.get_phase_results()\n",
    "THA_maxemiss.get_condensed_results()\n",
    "THA_maxemiss.get_total_phase_impacts()\n",
    "THA_maxemiss.get_total_lifetime_impacts()"
   ]
  },
  {
   "cell_type": "markdown",
   "metadata": {},
   "source": [
    "### Scenario 5: All Trade with Country with Lowest-Emission (CO2) Energy Mix"
   ]
  },
  {
   "cell_type": "code",
   "execution_count": 30,
   "metadata": {
    "ExecuteTime": {
     "end_time": "2019-10-10T18:06:01.769133Z",
     "start_time": "2019-10-10T18:06:01.262108Z"
    }
   },
   "outputs": [],
   "source": [
    "THA_minemiss = model.Scenario('Thailand')\n",
    "\n",
    "THA_minemiss.set_data(data_dir,\n",
    "                 up_inputs_base,\n",
    "                 up_emissions_base,\n",
    "                 national_energy_supply,\n",
    "                 unit_energy_emissions,\n",
    "                 emissions_eq_conversion,\n",
    "                 trade_distances,\n",
    "                 rail_allocation)\n",
    "\n",
    "THA_minemiss.set_scenario(up_countries_THA_minemiss)\n",
    "\n",
    "THA_minemiss.set_norm_params(avg_train_capacity,\n",
    "                        avg_train_capacity_filled,\n",
    "                        avg_daily_trips_per_train,\n",
    "                        avg_train_trip_distance,\n",
    "                        avg_train_lifespan,\n",
    "                        avg_number_active_trains,\n",
    "                        avg_train_mass,\n",
    "                        avg_infrastructure_lifespan,\n",
    "                        avg_pct_ballasted_track,\n",
    "                        days)\n",
    "\n",
    "THA_minemiss.make_trade_schedule()\n",
    "THA_minemiss.make_transport_schedule()\n",
    "THA_minemiss.update_inputs_transportation()\n",
    "THA_minemiss.get_energy_mix()\n",
    "THA_minemiss.get_energy_mix_emissions()\n",
    "THA_minemiss.update_emissions()\n",
    "THA_minemiss.update_inputs_electricity()\n",
    "THA_minemiss.update_inputs_passengers()\n",
    "THA_minemiss.make_emissions_schedule()\n",
    "THA_minemiss.get_total_requirements()\n",
    "THA_minemiss.get_total_emissions()\n",
    "THA_minemiss.get_phase_results()\n",
    "THA_minemiss.get_condensed_results()\n",
    "THA_minemiss.get_total_phase_impacts()\n",
    "THA_minemiss.get_total_lifetime_impacts()"
   ]
  },
  {
   "cell_type": "markdown",
   "metadata": {},
   "source": [
    "## Vietnam Models"
   ]
  },
  {
   "cell_type": "markdown",
   "metadata": {},
   "source": [
    "### Scenario 1: Autarky"
   ]
  },
  {
   "cell_type": "code",
   "execution_count": 31,
   "metadata": {
    "ExecuteTime": {
     "end_time": "2019-10-10T18:06:02.281568Z",
     "start_time": "2019-10-10T18:06:01.770772Z"
    }
   },
   "outputs": [],
   "source": [
    "VNM_aut = model.Scenario('Vietnam')\n",
    "\n",
    "VNM_aut.set_data(data_dir,\n",
    "                 up_inputs_base,\n",
    "                 up_emissions_base,\n",
    "                 national_energy_supply,\n",
    "                 unit_energy_emissions,\n",
    "                 emissions_eq_conversion,\n",
    "                 trade_distances,\n",
    "                 rail_allocation)\n",
    "\n",
    "VNM_aut.set_scenario(up_countries_VNM_aut)\n",
    "\n",
    "VNM_aut.set_norm_params(avg_train_capacity,\n",
    "                        avg_train_capacity_filled,\n",
    "                        avg_daily_trips_per_train,\n",
    "                        avg_train_trip_distance,\n",
    "                        avg_train_lifespan,\n",
    "                        avg_number_active_trains,\n",
    "                        avg_train_mass,\n",
    "                        avg_infrastructure_lifespan,\n",
    "                        avg_pct_ballasted_track,\n",
    "                        days)\n",
    "\n",
    "VNM_aut.make_trade_schedule()\n",
    "VNM_aut.make_transport_schedule()\n",
    "VNM_aut.update_inputs_transportation()\n",
    "VNM_aut.get_energy_mix()\n",
    "VNM_aut.get_energy_mix_emissions()\n",
    "VNM_aut.update_emissions()\n",
    "VNM_aut.update_inputs_electricity()\n",
    "VNM_aut.update_inputs_passengers()\n",
    "VNM_aut.make_emissions_schedule()\n",
    "VNM_aut.get_total_requirements()\n",
    "VNM_aut.get_total_emissions()\n",
    "VNM_aut.get_phase_results()\n",
    "VNM_aut.get_condensed_results()\n",
    "VNM_aut.get_total_phase_impacts()\n",
    "VNM_aut.get_total_lifetime_impacts()"
   ]
  },
  {
   "cell_type": "markdown",
   "metadata": {},
   "source": [
    "### Scenario 2: All Trade via Longest Trade Route"
   ]
  },
  {
   "cell_type": "code",
   "execution_count": 32,
   "metadata": {
    "ExecuteTime": {
     "end_time": "2019-10-10T18:06:02.787072Z",
     "start_time": "2019-10-10T18:06:02.283153Z"
    }
   },
   "outputs": [],
   "source": [
    "VNM_far = model.Scenario('Vietnam')\n",
    "\n",
    "VNM_far.set_data(data_dir,\n",
    "                 up_inputs_base,\n",
    "                 up_emissions_base,\n",
    "                 national_energy_supply,\n",
    "                 unit_energy_emissions,\n",
    "                 emissions_eq_conversion,\n",
    "                 trade_distances,\n",
    "                 rail_allocation)\n",
    "\n",
    "VNM_far.set_scenario(up_countries_VNM_far)\n",
    "\n",
    "VNM_far.set_norm_params(avg_train_capacity,\n",
    "                        avg_train_capacity_filled,\n",
    "                        avg_daily_trips_per_train,\n",
    "                        avg_train_trip_distance,\n",
    "                        avg_train_lifespan,\n",
    "                        avg_number_active_trains,\n",
    "                        avg_train_mass,\n",
    "                        avg_infrastructure_lifespan,\n",
    "                        avg_pct_ballasted_track,\n",
    "                        days)\n",
    "\n",
    "VNM_far.make_trade_schedule()\n",
    "VNM_far.make_transport_schedule()\n",
    "VNM_far.update_inputs_transportation()\n",
    "VNM_far.get_energy_mix()\n",
    "VNM_far.get_energy_mix_emissions()\n",
    "VNM_far.update_emissions()\n",
    "VNM_far.update_inputs_electricity()\n",
    "VNM_far.update_inputs_passengers()\n",
    "VNM_far.make_emissions_schedule()\n",
    "VNM_far.get_total_requirements()\n",
    "VNM_far.get_total_emissions()\n",
    "VNM_far.get_phase_results()\n",
    "VNM_far.get_condensed_results()\n",
    "VNM_far.get_total_phase_impacts()\n",
    "VNM_far.get_total_lifetime_impacts()"
   ]
  },
  {
   "cell_type": "markdown",
   "metadata": {},
   "source": [
    "### Scenario 3: All Trade via Shortest Trade Route"
   ]
  },
  {
   "cell_type": "code",
   "execution_count": 33,
   "metadata": {
    "ExecuteTime": {
     "end_time": "2019-10-10T18:06:03.296534Z",
     "start_time": "2019-10-10T18:06:02.788750Z"
    }
   },
   "outputs": [],
   "source": [
    "VNM_close = model.Scenario('Vietnam')\n",
    "\n",
    "VNM_close.set_data(data_dir,\n",
    "                 up_inputs_base,\n",
    "                 up_emissions_base,\n",
    "                 national_energy_supply,\n",
    "                 unit_energy_emissions,\n",
    "                 emissions_eq_conversion,\n",
    "                 trade_distances,\n",
    "                 rail_allocation)\n",
    "\n",
    "VNM_close.set_scenario(up_countries_VNM_close)\n",
    "\n",
    "VNM_close.set_norm_params(avg_train_capacity,\n",
    "                        avg_train_capacity_filled,\n",
    "                        avg_daily_trips_per_train,\n",
    "                        avg_train_trip_distance,\n",
    "                        avg_train_lifespan,\n",
    "                        avg_number_active_trains,\n",
    "                        avg_train_mass,\n",
    "                        avg_infrastructure_lifespan,\n",
    "                        avg_pct_ballasted_track,\n",
    "                        days)\n",
    "\n",
    "VNM_close.make_trade_schedule()\n",
    "VNM_close.make_transport_schedule()\n",
    "VNM_close.update_inputs_transportation()\n",
    "VNM_close.get_energy_mix()\n",
    "VNM_close.get_energy_mix_emissions()\n",
    "VNM_close.update_emissions()\n",
    "VNM_close.update_inputs_electricity()\n",
    "VNM_close.update_inputs_passengers()\n",
    "VNM_close.make_emissions_schedule()\n",
    "VNM_close.get_total_requirements()\n",
    "VNM_close.get_total_emissions()\n",
    "VNM_close.get_phase_results()\n",
    "VNM_close.get_condensed_results()\n",
    "VNM_close.get_total_phase_impacts()\n",
    "VNM_close.get_total_lifetime_impacts()"
   ]
  },
  {
   "cell_type": "markdown",
   "metadata": {},
   "source": [
    "### Scenario 4: All Trade with Country with Highest-Emission (CO2) Energy Mix"
   ]
  },
  {
   "cell_type": "code",
   "execution_count": 34,
   "metadata": {
    "ExecuteTime": {
     "end_time": "2019-10-10T18:06:03.832754Z",
     "start_time": "2019-10-10T18:06:03.297093Z"
    }
   },
   "outputs": [],
   "source": [
    "VNM_maxemiss = model.Scenario('Vietnam')\n",
    "\n",
    "VNM_maxemiss.set_data(data_dir,\n",
    "                 up_inputs_base,\n",
    "                 up_emissions_base,\n",
    "                 national_energy_supply,\n",
    "                 unit_energy_emissions,\n",
    "                 emissions_eq_conversion,\n",
    "                 trade_distances,\n",
    "                 rail_allocation)\n",
    "\n",
    "VNM_maxemiss.set_scenario(up_countries_VNM_maxemiss)\n",
    "\n",
    "VNM_maxemiss.set_norm_params(avg_train_capacity,\n",
    "                        avg_train_capacity_filled,\n",
    "                        avg_daily_trips_per_train,\n",
    "                        avg_train_trip_distance,\n",
    "                        avg_train_lifespan,\n",
    "                        avg_number_active_trains,\n",
    "                        avg_train_mass,\n",
    "                        avg_infrastructure_lifespan,\n",
    "                        avg_pct_ballasted_track,\n",
    "                        days)\n",
    "\n",
    "VNM_maxemiss.make_trade_schedule()\n",
    "VNM_maxemiss.make_transport_schedule()\n",
    "VNM_maxemiss.update_inputs_transportation()\n",
    "VNM_maxemiss.get_energy_mix()\n",
    "VNM_maxemiss.get_energy_mix_emissions()\n",
    "VNM_maxemiss.update_emissions()\n",
    "VNM_maxemiss.update_inputs_electricity()\n",
    "VNM_maxemiss.update_inputs_passengers()\n",
    "VNM_maxemiss.make_emissions_schedule()\n",
    "VNM_maxemiss.get_total_requirements()\n",
    "VNM_maxemiss.get_total_emissions()\n",
    "VNM_maxemiss.get_phase_results()\n",
    "VNM_maxemiss.get_condensed_results()\n",
    "VNM_maxemiss.get_total_phase_impacts()\n",
    "VNM_maxemiss.get_total_lifetime_impacts()"
   ]
  },
  {
   "cell_type": "markdown",
   "metadata": {},
   "source": [
    "### Scenario 5: All Trade with Country with Lowest-Emission (CO2) Energy Mix"
   ]
  },
  {
   "cell_type": "code",
   "execution_count": 35,
   "metadata": {
    "ExecuteTime": {
     "end_time": "2019-10-10T18:06:04.347537Z",
     "start_time": "2019-10-10T18:06:03.833429Z"
    }
   },
   "outputs": [],
   "source": [
    "VNM_minemiss = model.Scenario('Vietnam')\n",
    "\n",
    "VNM_minemiss.set_data(data_dir,\n",
    "                 up_inputs_base,\n",
    "                 up_emissions_base,\n",
    "                 national_energy_supply,\n",
    "                 unit_energy_emissions,\n",
    "                 emissions_eq_conversion,\n",
    "                 trade_distances,\n",
    "                 rail_allocation)\n",
    "\n",
    "VNM_minemiss.set_scenario(up_countries_VNM_minemiss)\n",
    "\n",
    "VNM_minemiss.set_norm_params(avg_train_capacity,\n",
    "                        avg_train_capacity_filled,\n",
    "                        avg_daily_trips_per_train,\n",
    "                        avg_train_trip_distance,\n",
    "                        avg_train_lifespan,\n",
    "                        avg_number_active_trains,\n",
    "                        avg_train_mass,\n",
    "                        avg_infrastructure_lifespan,\n",
    "                        avg_pct_ballasted_track,\n",
    "                        days)\n",
    "\n",
    "VNM_minemiss.make_trade_schedule()\n",
    "VNM_minemiss.make_transport_schedule()\n",
    "VNM_minemiss.update_inputs_transportation()\n",
    "VNM_minemiss.get_energy_mix()\n",
    "VNM_minemiss.get_energy_mix_emissions()\n",
    "VNM_minemiss.update_emissions()\n",
    "VNM_minemiss.update_inputs_electricity()\n",
    "VNM_minemiss.update_inputs_passengers()\n",
    "VNM_minemiss.make_emissions_schedule()\n",
    "VNM_minemiss.get_total_requirements()\n",
    "VNM_minemiss.get_total_emissions()\n",
    "VNM_minemiss.get_phase_results()\n",
    "VNM_minemiss.get_condensed_results()\n",
    "VNM_minemiss.get_total_phase_impacts()\n",
    "VNM_minemiss.get_total_lifetime_impacts()"
   ]
  },
  {
   "cell_type": "markdown",
   "metadata": {},
   "source": [
    "## Display Impacts"
   ]
  },
  {
   "cell_type": "code",
   "execution_count": 36,
   "metadata": {
    "ExecuteTime": {
     "end_time": "2019-10-10T18:06:04.352508Z",
     "start_time": "2019-10-10T18:06:04.348600Z"
    }
   },
   "outputs": [],
   "source": [
    "# Control impact result displays\n",
    "\n",
    "display_aut = False\n",
    "display_far = False\n",
    "display_close = False\n",
    "display_maxemiss = False\n",
    "display_minemiss = False"
   ]
  },
  {
   "cell_type": "markdown",
   "metadata": {},
   "source": [
    "### Autarky Scenario Results"
   ]
  },
  {
   "cell_type": "code",
   "execution_count": 37,
   "metadata": {
    "ExecuteTime": {
     "end_time": "2019-10-10T18:06:04.359549Z",
     "start_time": "2019-10-10T18:06:04.354500Z"
    }
   },
   "outputs": [],
   "source": [
    "if display_aut == True:\n",
    "    CHN_aut.total_impacts_phase\n",
    "    KHM_aut.total_impacts_phase\n",
    "    LAO_aut.total_impacts_phase\n",
    "    MMR_aut.total_impacts_phase\n",
    "    THA_aut.total_impacts_phase\n",
    "    VNM_aut.total_impacts_phase\n",
    "    print('---------------------')\n",
    "    CHN_aut.total_impacts_lifetime\n",
    "    KHM_aut.total_impacts_lifetime\n",
    "    LAO_aut.total_impacts_lifetime\n",
    "    MMR_aut.total_impacts_lifetime\n",
    "    THA_aut.total_impacts_lifetime\n",
    "    VNM_aut.total_impacts_lifetime"
   ]
  },
  {
   "cell_type": "markdown",
   "metadata": {},
   "source": [
    "### Longest Trade Route Scenario Results"
   ]
  },
  {
   "cell_type": "code",
   "execution_count": 38,
   "metadata": {
    "ExecuteTime": {
     "end_time": "2019-10-10T18:06:04.370483Z",
     "start_time": "2019-10-10T18:06:04.362493Z"
    }
   },
   "outputs": [],
   "source": [
    "if display_far == True:\n",
    "    CHN_far.total_impacts_phase\n",
    "    KHM_far.total_impacts_phase\n",
    "    LAO_far.total_impacts_phase\n",
    "    MMR_far.total_impacts_phase\n",
    "    THA_far.total_impacts_phase\n",
    "    VNM_far.total_impacts_phase\n",
    "    print('---------------------')\n",
    "    CHN_far.total_impacts_lifetime\n",
    "    KHM_far.total_impacts_lifetime\n",
    "    LAO_far.total_impacts_lifetime\n",
    "    MMR_far.total_impacts_lifetime\n",
    "    THA_far.total_impacts_lifetime\n",
    "    VNM_far.total_impacts_lifetime"
   ]
  },
  {
   "cell_type": "markdown",
   "metadata": {},
   "source": [
    "### Shortest Trade Route Scenario Results"
   ]
  },
  {
   "cell_type": "code",
   "execution_count": 39,
   "metadata": {
    "ExecuteTime": {
     "end_time": "2019-10-10T18:06:04.379435Z",
     "start_time": "2019-10-10T18:06:04.372452Z"
    }
   },
   "outputs": [],
   "source": [
    "if display_close == True:\n",
    "    CHN_close.total_impacts_phase\n",
    "    KHM_close.total_impacts_phase\n",
    "    LAO_close.total_impacts_phase\n",
    "    MMR_close.total_impacts_phase\n",
    "    THA_close.total_impacts_phase\n",
    "    VNM_close.total_impacts_phase\n",
    "    print('---------------------')\n",
    "    CHN_close.total_impacts_lifetime\n",
    "    KHM_close.total_impacts_lifetime\n",
    "    LAO_close.total_impacts_lifetime\n",
    "    MMR_close.total_impacts_lifetime\n",
    "    THA_close.total_impacts_lifetime\n",
    "    VNM_close.total_impacts_lifetime"
   ]
  },
  {
   "cell_type": "markdown",
   "metadata": {},
   "source": [
    "### Highest-Emission Energy Mix Scenario Results"
   ]
  },
  {
   "cell_type": "code",
   "execution_count": 40,
   "metadata": {
    "ExecuteTime": {
     "end_time": "2019-10-10T18:06:04.389407Z",
     "start_time": "2019-10-10T18:06:04.382440Z"
    }
   },
   "outputs": [],
   "source": [
    "if display_maxemiss == True:\n",
    "    CHN_maxemiss.total_impacts_phase\n",
    "    KHM_maxemiss.total_impacts_phase\n",
    "    LAO_maxemiss.total_impacts_phase\n",
    "    MMR_maxemiss.total_impacts_phase\n",
    "    THA_maxemiss.total_impacts_phase\n",
    "    VNM_maxemiss.total_impacts_phase\n",
    "    print('---------------------')\n",
    "    CHN_maxemiss.total_impacts_lifetime\n",
    "    KHM_maxemiss.total_impacts_lifetime\n",
    "    LAO_maxemiss.total_impacts_lifetime\n",
    "    MMR_maxemiss.total_impacts_lifetime\n",
    "    THA_maxemiss.total_impacts_lifetime\n",
    "    VNM_maxemiss.total_impacts_lifetime"
   ]
  },
  {
   "cell_type": "markdown",
   "metadata": {},
   "source": [
    "### Lowest-Emission Energy Mix Scenario Results"
   ]
  },
  {
   "cell_type": "code",
   "execution_count": 41,
   "metadata": {
    "ExecuteTime": {
     "end_time": "2019-10-10T18:06:04.396388Z",
     "start_time": "2019-10-10T18:06:04.391401Z"
    }
   },
   "outputs": [],
   "source": [
    "if display_minemiss == True:\n",
    "    CHN_minemiss.total_impacts_phase\n",
    "    KHM_minemiss.total_impacts_phase\n",
    "    LAO_minemiss.total_impacts_phase\n",
    "    MMR_minemiss.total_impacts_phase\n",
    "    THA_minemiss.total_impacts_phase\n",
    "    VNM_minemiss.total_impacts_phase\n",
    "    print('---------------------')\n",
    "    CHN_minemiss.total_impacts_lifetime\n",
    "    KHM_minemiss.total_impacts_lifetime\n",
    "    LAO_minemiss.total_impacts_lifetime\n",
    "    MMR_minemiss.total_impacts_lifetime\n",
    "    THA_minemiss.total_impacts_lifetime\n",
    "    VNM_minemiss.total_impacts_lifetime"
   ]
  },
  {
   "cell_type": "markdown",
   "metadata": {},
   "source": [
    "## Concatenate Impact Data"
   ]
  },
  {
   "cell_type": "markdown",
   "metadata": {},
   "source": [
    "### Autarky Scenario Results"
   ]
  },
  {
   "cell_type": "code",
   "execution_count": 42,
   "metadata": {
    "ExecuteTime": {
     "end_time": "2019-10-10T18:06:04.413356Z",
     "start_time": "2019-10-10T18:06:04.405365Z"
    }
   },
   "outputs": [],
   "source": [
    "autarky_total_impact_phase = pd.concat([\n",
    "    CHN_aut.total_impacts_phase,\n",
    "    KHM_aut.total_impacts_phase,\n",
    "    LAO_aut.total_impacts_phase,\n",
    "    MMR_aut.total_impacts_phase,\n",
    "    THA_aut.total_impacts_phase,\n",
    "    VNM_aut.total_impacts_phase\n",
    "])\n",
    "\n",
    "autarky_total_impact_lifetime = pd.concat([\n",
    "    CHN_aut.total_impacts_lifetime,\n",
    "    KHM_aut.total_impacts_lifetime,\n",
    "    LAO_aut.total_impacts_lifetime,\n",
    "    MMR_aut.total_impacts_lifetime,\n",
    "    THA_aut.total_impacts_lifetime,\n",
    "    VNM_aut.total_impacts_lifetime\n",
    "])"
   ]
  },
  {
   "cell_type": "markdown",
   "metadata": {},
   "source": [
    "### Longest Trade Route Scenario Results"
   ]
  },
  {
   "cell_type": "code",
   "execution_count": 43,
   "metadata": {
    "ExecuteTime": {
     "end_time": "2019-10-10T18:06:04.425312Z",
     "start_time": "2019-10-10T18:06:04.415398Z"
    }
   },
   "outputs": [],
   "source": [
    "far_total_impact_phase = pd.concat([\n",
    "    CHN_far.total_impacts_phase,\n",
    "    KHM_far.total_impacts_phase,\n",
    "    LAO_far.total_impacts_phase,\n",
    "    MMR_far.total_impacts_phase,\n",
    "    THA_far.total_impacts_phase,\n",
    "    VNM_far.total_impacts_phase\n",
    "])\n",
    "\n",
    "far_total_impact_lifetime = pd.concat([\n",
    "    CHN_far.total_impacts_lifetime,\n",
    "    KHM_far.total_impacts_lifetime,\n",
    "    LAO_far.total_impacts_lifetime,\n",
    "    MMR_far.total_impacts_lifetime,\n",
    "    THA_far.total_impacts_lifetime,\n",
    "    VNM_far.total_impacts_lifetime\n",
    "])"
   ]
  },
  {
   "cell_type": "markdown",
   "metadata": {},
   "source": [
    "### Shortest Trade Route Scenario Results"
   ]
  },
  {
   "cell_type": "code",
   "execution_count": 44,
   "metadata": {
    "ExecuteTime": {
     "end_time": "2019-10-10T18:06:04.437327Z",
     "start_time": "2019-10-10T18:06:04.428302Z"
    }
   },
   "outputs": [],
   "source": [
    "close_total_impact_phase = pd.concat([\n",
    "    CHN_close.total_impacts_phase,\n",
    "    KHM_close.total_impacts_phase,\n",
    "    LAO_close.total_impacts_phase,\n",
    "    MMR_close.total_impacts_phase,\n",
    "    THA_close.total_impacts_phase,\n",
    "    VNM_close.total_impacts_phase\n",
    "])\n",
    "\n",
    "close_total_impact_lifetime = pd.concat([\n",
    "    CHN_close.total_impacts_lifetime,\n",
    "    KHM_close.total_impacts_lifetime,\n",
    "    LAO_close.total_impacts_lifetime,\n",
    "    MMR_close.total_impacts_lifetime,\n",
    "    THA_close.total_impacts_lifetime,\n",
    "    VNM_close.total_impacts_lifetime\n",
    "])"
   ]
  },
  {
   "cell_type": "markdown",
   "metadata": {},
   "source": [
    "### Highest-Emission Energy Mix Scenario Results"
   ]
  },
  {
   "cell_type": "code",
   "execution_count": 45,
   "metadata": {
    "ExecuteTime": {
     "end_time": "2019-10-10T18:06:04.449248Z",
     "start_time": "2019-10-10T18:06:04.441276Z"
    }
   },
   "outputs": [],
   "source": [
    "maxemiss_total_impact_phase = pd.concat([\n",
    "    CHN_maxemiss.total_impacts_phase,\n",
    "    KHM_maxemiss.total_impacts_phase,\n",
    "    LAO_maxemiss.total_impacts_phase,\n",
    "    MMR_maxemiss.total_impacts_phase,\n",
    "    THA_maxemiss.total_impacts_phase,\n",
    "    VNM_maxemiss.total_impacts_phase\n",
    "])\n",
    "\n",
    "maxemiss_total_impact_lifetime = pd.concat([\n",
    "    CHN_maxemiss.total_impacts_lifetime,\n",
    "    KHM_maxemiss.total_impacts_lifetime,\n",
    "    LAO_maxemiss.total_impacts_lifetime,\n",
    "    MMR_maxemiss.total_impacts_lifetime,\n",
    "    THA_maxemiss.total_impacts_lifetime,\n",
    "    VNM_maxemiss.total_impacts_lifetime\n",
    "])"
   ]
  },
  {
   "cell_type": "markdown",
   "metadata": {},
   "source": [
    "### Lowest-Emission Energy Mix Scenario Results"
   ]
  },
  {
   "cell_type": "code",
   "execution_count": 46,
   "metadata": {
    "ExecuteTime": {
     "end_time": "2019-10-10T18:06:04.461774Z",
     "start_time": "2019-10-10T18:06:04.452240Z"
    }
   },
   "outputs": [],
   "source": [
    "minemiss_total_impact_phase = pd.concat([\n",
    "    CHN_minemiss.total_impacts_phase,\n",
    "    KHM_minemiss.total_impacts_phase,\n",
    "    LAO_minemiss.total_impacts_phase,\n",
    "    MMR_minemiss.total_impacts_phase,\n",
    "    THA_minemiss.total_impacts_phase,\n",
    "    VNM_minemiss.total_impacts_phase\n",
    "])\n",
    "\n",
    "minemiss_total_impact_lifetime = pd.concat([\n",
    "    CHN_minemiss.total_impacts_lifetime,\n",
    "    KHM_minemiss.total_impacts_lifetime,\n",
    "    LAO_minemiss.total_impacts_lifetime,\n",
    "    MMR_minemiss.total_impacts_lifetime,\n",
    "    THA_minemiss.total_impacts_lifetime,\n",
    "    VNM_minemiss.total_impacts_lifetime\n",
    "])"
   ]
  },
  {
   "cell_type": "markdown",
   "metadata": {},
   "source": [
    "### Lifetime CO2eq Emissions - Scenario Comparison"
   ]
  },
  {
   "cell_type": "code",
   "execution_count": 47,
   "metadata": {},
   "outputs": [],
   "source": [
    "# Name of column containing lifetime CO2eq emission data\n",
    "col_name = 'CO2_eq_kg'\n",
    "\n",
    "#\n",
    "CO2_total_impact_lifetime = pd.DataFrame({\n",
    "    'Autarky': [CHN_aut.total_impacts_lifetime[col_name][0],\n",
    "                KHM_aut.total_impacts_lifetime[col_name][0],\n",
    "                LAO_aut.total_impacts_lifetime[col_name][0],\n",
    "                MMR_aut.total_impacts_lifetime[col_name][0],\n",
    "                THA_aut.total_impacts_lifetime[col_name][0],\n",
    "                VNM_aut.total_impacts_lifetime[col_name][0]\n",
    "               ],\n",
    "    'Far': [CHN_far.total_impacts_lifetime[col_name][0],\n",
    "                KHM_far.total_impacts_lifetime[col_name][0],\n",
    "                LAO_far.total_impacts_lifetime[col_name][0],\n",
    "                MMR_far.total_impacts_lifetime[col_name][0],\n",
    "                THA_far.total_impacts_lifetime[col_name][0],\n",
    "                VNM_far.total_impacts_lifetime[col_name][0]\n",
    "               ],\n",
    "    'Close': [CHN_close.total_impacts_lifetime[col_name][0],\n",
    "                KHM_close.total_impacts_lifetime[col_name][0],\n",
    "                LAO_close.total_impacts_lifetime[col_name][0],\n",
    "                MMR_close.total_impacts_lifetime[col_name][0],\n",
    "                THA_close.total_impacts_lifetime[col_name][0],\n",
    "                VNM_close.total_impacts_lifetime[col_name][0]\n",
    "               ],\n",
    "    'Maxemiss': [CHN_maxemiss.total_impacts_lifetime[col_name][0],\n",
    "                KHM_maxemiss.total_impacts_lifetime[col_name][0],\n",
    "                LAO_maxemiss.total_impacts_lifetime[col_name][0],\n",
    "                MMR_maxemiss.total_impacts_lifetime[col_name][0],\n",
    "                THA_maxemiss.total_impacts_lifetime[col_name][0],\n",
    "                VNM_maxemiss.total_impacts_lifetime[col_name][0]\n",
    "               ],\n",
    "    'Minemiss': [CHN_minemiss.total_impacts_lifetime[col_name][0],\n",
    "                KHM_minemiss.total_impacts_lifetime[col_name][0],\n",
    "                LAO_minemiss.total_impacts_lifetime[col_name][0],\n",
    "                MMR_minemiss.total_impacts_lifetime[col_name][0],\n",
    "                THA_minemiss.total_impacts_lifetime[col_name][0],\n",
    "                VNM_minemiss.total_impacts_lifetime[col_name][0]\n",
    "               ]},\n",
    "    index = ['China','Cambodia','Lao PDR', 'Myanmar', 'Thailand', 'Vietnam']\n",
    ")"
   ]
  },
  {
   "cell_type": "markdown",
   "metadata": {},
   "source": [
    "### Lifetime SO2eq Emissions - Scenario Comparison"
   ]
  },
  {
   "cell_type": "code",
   "execution_count": 48,
   "metadata": {},
   "outputs": [],
   "source": [
    "# Name of column containing lifetime SO2eq emission data\n",
    "col_name = 'SO2_eq_kg'\n",
    "\n",
    "#\n",
    "SO2_total_impact_lifetime = pd.DataFrame({\n",
    "    'Autarky': [CHN_aut.total_impacts_lifetime[col_name][0],\n",
    "                KHM_aut.total_impacts_lifetime[col_name][0],\n",
    "                LAO_aut.total_impacts_lifetime[col_name][0],\n",
    "                MMR_aut.total_impacts_lifetime[col_name][0],\n",
    "                THA_aut.total_impacts_lifetime[col_name][0],\n",
    "                VNM_aut.total_impacts_lifetime[col_name][0]\n",
    "               ],\n",
    "    'Far': [CHN_far.total_impacts_lifetime[col_name][0],\n",
    "                KHM_far.total_impacts_lifetime[col_name][0],\n",
    "                LAO_far.total_impacts_lifetime[col_name][0],\n",
    "                MMR_far.total_impacts_lifetime[col_name][0],\n",
    "                THA_far.total_impacts_lifetime[col_name][0],\n",
    "                VNM_far.total_impacts_lifetime[col_name][0]\n",
    "               ],\n",
    "    'Close': [CHN_close.total_impacts_lifetime[col_name][0],\n",
    "                KHM_close.total_impacts_lifetime[col_name][0],\n",
    "                LAO_close.total_impacts_lifetime[col_name][0],\n",
    "                MMR_close.total_impacts_lifetime[col_name][0],\n",
    "                THA_close.total_impacts_lifetime[col_name][0],\n",
    "                VNM_close.total_impacts_lifetime[col_name][0]\n",
    "               ],\n",
    "    'Maxemiss': [CHN_maxemiss.total_impacts_lifetime[col_name][0],\n",
    "                KHM_maxemiss.total_impacts_lifetime[col_name][0],\n",
    "                LAO_maxemiss.total_impacts_lifetime[col_name][0],\n",
    "                MMR_maxemiss.total_impacts_lifetime[col_name][0],\n",
    "                THA_maxemiss.total_impacts_lifetime[col_name][0],\n",
    "                VNM_maxemiss.total_impacts_lifetime[col_name][0]\n",
    "               ],\n",
    "    'Minemiss': [CHN_minemiss.total_impacts_lifetime[col_name][0],\n",
    "                KHM_minemiss.total_impacts_lifetime[col_name][0],\n",
    "                LAO_minemiss.total_impacts_lifetime[col_name][0],\n",
    "                MMR_minemiss.total_impacts_lifetime[col_name][0],\n",
    "                THA_minemiss.total_impacts_lifetime[col_name][0],\n",
    "                VNM_minemiss.total_impacts_lifetime[col_name][0]\n",
    "               ]},\n",
    "    index = ['China','Cambodia','Lao PDR', 'Myanmar', 'Thailand', 'Vietnam']\n",
    ")"
   ]
  },
  {
   "cell_type": "markdown",
   "metadata": {},
   "source": [
    "### Lifetime PM2.5eq Emissions - Scenario Comparison"
   ]
  },
  {
   "cell_type": "code",
   "execution_count": 49,
   "metadata": {},
   "outputs": [],
   "source": [
    "# Name of column containing lifetime PM25eq emission data\n",
    "col_name = 'PM25_eq_kg'\n",
    "\n",
    "#\n",
    "PM25_total_impact_lifetime = pd.DataFrame({\n",
    "    'Autarky': [CHN_aut.total_impacts_lifetime[col_name][0],\n",
    "                KHM_aut.total_impacts_lifetime[col_name][0],\n",
    "                LAO_aut.total_impacts_lifetime[col_name][0],\n",
    "                MMR_aut.total_impacts_lifetime[col_name][0],\n",
    "                THA_aut.total_impacts_lifetime[col_name][0],\n",
    "                VNM_aut.total_impacts_lifetime[col_name][0]\n",
    "               ],\n",
    "    'Far': [CHN_far.total_impacts_lifetime[col_name][0],\n",
    "                KHM_far.total_impacts_lifetime[col_name][0],\n",
    "                LAO_far.total_impacts_lifetime[col_name][0],\n",
    "                MMR_far.total_impacts_lifetime[col_name][0],\n",
    "                THA_far.total_impacts_lifetime[col_name][0],\n",
    "                VNM_far.total_impacts_lifetime[col_name][0]\n",
    "               ],\n",
    "    'Close': [CHN_close.total_impacts_lifetime[col_name][0],\n",
    "                KHM_close.total_impacts_lifetime[col_name][0],\n",
    "                LAO_close.total_impacts_lifetime[col_name][0],\n",
    "                MMR_close.total_impacts_lifetime[col_name][0],\n",
    "                THA_close.total_impacts_lifetime[col_name][0],\n",
    "                VNM_close.total_impacts_lifetime[col_name][0]\n",
    "               ],\n",
    "    'Maxemiss': [CHN_maxemiss.total_impacts_lifetime[col_name][0],\n",
    "                KHM_maxemiss.total_impacts_lifetime[col_name][0],\n",
    "                LAO_maxemiss.total_impacts_lifetime[col_name][0],\n",
    "                MMR_maxemiss.total_impacts_lifetime[col_name][0],\n",
    "                THA_maxemiss.total_impacts_lifetime[col_name][0],\n",
    "                VNM_maxemiss.total_impacts_lifetime[col_name][0]\n",
    "               ],\n",
    "    'Minemiss': [CHN_minemiss.total_impacts_lifetime[col_name][0],\n",
    "                KHM_minemiss.total_impacts_lifetime[col_name][0],\n",
    "                LAO_minemiss.total_impacts_lifetime[col_name][0],\n",
    "                MMR_minemiss.total_impacts_lifetime[col_name][0],\n",
    "                THA_minemiss.total_impacts_lifetime[col_name][0],\n",
    "                VNM_minemiss.total_impacts_lifetime[col_name][0]\n",
    "               ]},\n",
    "    index = ['China','Cambodia','Lao PDR', 'Myanmar', 'Thailand', 'Vietnam']\n",
    ")"
   ]
  },
  {
   "cell_type": "markdown",
   "metadata": {},
   "source": [
    "### Material Extraction Phase CO2eq Emissions - Scenario Comparison"
   ]
  },
  {
   "cell_type": "code",
   "execution_count": 50,
   "metadata": {},
   "outputs": [],
   "source": [
    "# Name of column containing lifetime CO2eq emission data\n",
    "col_name = 'CO2_eq_kg'\n",
    "\n",
    "# Name of phase of interest; options are 'materials_extraction', 'construction', 'operation'\n",
    "phase = 'materials_extraction'\n",
    "\n",
    "#\n",
    "CO2_phase_impact_materials_extraction = pd.DataFrame({\n",
    "    'Autarky': [CHN_aut.total_impacts_phase[CHN_aut.total_impacts_phase.index.str.startswith(phase)][col_name][0],\n",
    "                KHM_aut.total_impacts_phase[KHM_aut.total_impacts_phase.index.str.startswith(phase)][col_name][0],\n",
    "                LAO_aut.total_impacts_phase[LAO_aut.total_impacts_phase.index.str.startswith(phase)][col_name][0],\n",
    "                MMR_aut.total_impacts_phase[MMR_aut.total_impacts_phase.index.str.startswith(phase)][col_name][0],\n",
    "                THA_aut.total_impacts_phase[THA_aut.total_impacts_phase.index.str.startswith(phase)][col_name][0],\n",
    "                VNM_aut.total_impacts_phase[VNM_aut.total_impacts_phase.index.str.startswith(phase)][col_name][0]\n",
    "               ],\n",
    "    'Far': [CHN_far.total_impacts_phase[CHN_far.total_impacts_phase.index.str.startswith(phase)][col_name][0],\n",
    "                KHM_far.total_impacts_phase[KHM_far.total_impacts_phase.index.str.startswith(phase)][col_name][0],\n",
    "                LAO_far.total_impacts_phase[LAO_far.total_impacts_phase.index.str.startswith(phase)][col_name][0],\n",
    "                MMR_far.total_impacts_phase[MMR_far.total_impacts_phase.index.str.startswith(phase)][col_name][0],\n",
    "                THA_far.total_impacts_phase[THA_far.total_impacts_phase.index.str.startswith(phase)][col_name][0],\n",
    "                VNM_far.total_impacts_phase[VNM_far.total_impacts_phase.index.str.startswith(phase)][col_name][0]\n",
    "               ],\n",
    "    'Close': [CHN_close.total_impacts_phase[CHN_close.total_impacts_phase.index.str.startswith(phase)][col_name][0],\n",
    "                KHM_close.total_impacts_phase[KHM_close.total_impacts_phase.index.str.startswith(phase)][col_name][0],\n",
    "                LAO_close.total_impacts_phase[LAO_close.total_impacts_phase.index.str.startswith(phase)][col_name][0],\n",
    "                MMR_close.total_impacts_phase[MMR_close.total_impacts_phase.index.str.startswith(phase)][col_name][0],\n",
    "                THA_close.total_impacts_phase[THA_close.total_impacts_phase.index.str.startswith(phase)][col_name][0],\n",
    "                VNM_close.total_impacts_phase[VNM_close.total_impacts_phase.index.str.startswith(phase)][col_name][0]\n",
    "               ],\n",
    "    'Maxemiss': [CHN_maxemiss.total_impacts_phase[CHN_maxemiss.total_impacts_phase.index.str.startswith(phase)][col_name][0],\n",
    "                KHM_maxemiss.total_impacts_phase[KHM_maxemiss.total_impacts_phase.index.str.startswith(phase)][col_name][0],\n",
    "                LAO_maxemiss.total_impacts_phase[LAO_maxemiss.total_impacts_phase.index.str.startswith(phase)][col_name][0],\n",
    "                MMR_maxemiss.total_impacts_phase[MMR_maxemiss.total_impacts_phase.index.str.startswith(phase)][col_name][0],\n",
    "                THA_maxemiss.total_impacts_phase[THA_maxemiss.total_impacts_phase.index.str.startswith(phase)][col_name][0],\n",
    "                VNM_maxemiss.total_impacts_phase[VNM_maxemiss.total_impacts_phase.index.str.startswith(phase)][col_name][0]\n",
    "               ],\n",
    "    'Minemiss': [CHN_minemiss.total_impacts_phase[CHN_minemiss.total_impacts_phase.index.str.startswith(phase)][col_name][0],\n",
    "                KHM_minemiss.total_impacts_phase[KHM_minemiss.total_impacts_phase.index.str.startswith(phase)][col_name][0],\n",
    "                LAO_minemiss.total_impacts_phase[LAO_minemiss.total_impacts_phase.index.str.startswith(phase)][col_name][0],\n",
    "                MMR_minemiss.total_impacts_phase[MMR_minemiss.total_impacts_phase.index.str.startswith(phase)][col_name][0],\n",
    "                THA_minemiss.total_impacts_phase[THA_minemiss.total_impacts_phase.index.str.startswith(phase)][col_name][0],\n",
    "                VNM_minemiss.total_impacts_phase[VNM_minemiss.total_impacts_phase.index.str.startswith(phase)][col_name][0]\n",
    "               ]},\n",
    "    index = ['China','Cambodia','Lao PDR', 'Myanmar', 'Thailand', 'Vietnam']\n",
    ")"
   ]
  },
  {
   "cell_type": "markdown",
   "metadata": {},
   "source": [
    "### Material Extraction Phase SO2eq Emissions - Scenario Comparison"
   ]
  },
  {
   "cell_type": "code",
   "execution_count": 51,
   "metadata": {},
   "outputs": [],
   "source": [
    "# Name of column containing lifetime SO2eq emission data\n",
    "col_name = 'SO2_eq_kg'\n",
    "\n",
    "# Name of phase of interest; options are 'materials_extraction', 'construction', 'operation'\n",
    "phase = 'materials_extraction'\n",
    "\n",
    "#\n",
    "SO2_phase_impact_materials_extraction = pd.DataFrame({\n",
    "    'Autarky': [CHN_aut.total_impacts_phase[CHN_aut.total_impacts_phase.index.str.startswith(phase)][col_name][0],\n",
    "                KHM_aut.total_impacts_phase[KHM_aut.total_impacts_phase.index.str.startswith(phase)][col_name][0],\n",
    "                LAO_aut.total_impacts_phase[LAO_aut.total_impacts_phase.index.str.startswith(phase)][col_name][0],\n",
    "                MMR_aut.total_impacts_phase[MMR_aut.total_impacts_phase.index.str.startswith(phase)][col_name][0],\n",
    "                THA_aut.total_impacts_phase[THA_aut.total_impacts_phase.index.str.startswith(phase)][col_name][0],\n",
    "                VNM_aut.total_impacts_phase[VNM_aut.total_impacts_phase.index.str.startswith(phase)][col_name][0]\n",
    "               ],\n",
    "    'Far': [CHN_far.total_impacts_phase[CHN_far.total_impacts_phase.index.str.startswith(phase)][col_name][0],\n",
    "                KHM_far.total_impacts_phase[KHM_far.total_impacts_phase.index.str.startswith(phase)][col_name][0],\n",
    "                LAO_far.total_impacts_phase[LAO_far.total_impacts_phase.index.str.startswith(phase)][col_name][0],\n",
    "                MMR_far.total_impacts_phase[MMR_far.total_impacts_phase.index.str.startswith(phase)][col_name][0],\n",
    "                THA_far.total_impacts_phase[THA_far.total_impacts_phase.index.str.startswith(phase)][col_name][0],\n",
    "                VNM_far.total_impacts_phase[VNM_far.total_impacts_phase.index.str.startswith(phase)][col_name][0]\n",
    "               ],\n",
    "    'Close': [CHN_close.total_impacts_phase[CHN_close.total_impacts_phase.index.str.startswith(phase)][col_name][0],\n",
    "                KHM_close.total_impacts_phase[KHM_close.total_impacts_phase.index.str.startswith(phase)][col_name][0],\n",
    "                LAO_close.total_impacts_phase[LAO_close.total_impacts_phase.index.str.startswith(phase)][col_name][0],\n",
    "                MMR_close.total_impacts_phase[MMR_close.total_impacts_phase.index.str.startswith(phase)][col_name][0],\n",
    "                THA_close.total_impacts_phase[THA_close.total_impacts_phase.index.str.startswith(phase)][col_name][0],\n",
    "                VNM_close.total_impacts_phase[VNM_close.total_impacts_phase.index.str.startswith(phase)][col_name][0]\n",
    "               ],\n",
    "    'Maxemiss': [CHN_maxemiss.total_impacts_phase[CHN_maxemiss.total_impacts_phase.index.str.startswith(phase)][col_name][0],\n",
    "                KHM_maxemiss.total_impacts_phase[KHM_maxemiss.total_impacts_phase.index.str.startswith(phase)][col_name][0],\n",
    "                LAO_maxemiss.total_impacts_phase[LAO_maxemiss.total_impacts_phase.index.str.startswith(phase)][col_name][0],\n",
    "                MMR_maxemiss.total_impacts_phase[MMR_maxemiss.total_impacts_phase.index.str.startswith(phase)][col_name][0],\n",
    "                THA_maxemiss.total_impacts_phase[THA_maxemiss.total_impacts_phase.index.str.startswith(phase)][col_name][0],\n",
    "                VNM_maxemiss.total_impacts_phase[VNM_maxemiss.total_impacts_phase.index.str.startswith(phase)][col_name][0]\n",
    "               ],\n",
    "    'Minemiss': [CHN_minemiss.total_impacts_phase[CHN_minemiss.total_impacts_phase.index.str.startswith(phase)][col_name][0],\n",
    "                KHM_minemiss.total_impacts_phase[KHM_minemiss.total_impacts_phase.index.str.startswith(phase)][col_name][0],\n",
    "                LAO_minemiss.total_impacts_phase[LAO_minemiss.total_impacts_phase.index.str.startswith(phase)][col_name][0],\n",
    "                MMR_minemiss.total_impacts_phase[MMR_minemiss.total_impacts_phase.index.str.startswith(phase)][col_name][0],\n",
    "                THA_minemiss.total_impacts_phase[THA_minemiss.total_impacts_phase.index.str.startswith(phase)][col_name][0],\n",
    "                VNM_minemiss.total_impacts_phase[VNM_minemiss.total_impacts_phase.index.str.startswith(phase)][col_name][0]\n",
    "               ]},\n",
    "    index = ['China','Cambodia','Lao PDR', 'Myanmar', 'Thailand', 'Vietnam']\n",
    ")"
   ]
  },
  {
   "cell_type": "markdown",
   "metadata": {},
   "source": [
    "### Material Extraction Phase PM2.5eq Emissions - Scenario Comparison"
   ]
  },
  {
   "cell_type": "code",
   "execution_count": 52,
   "metadata": {},
   "outputs": [],
   "source": [
    "# Name of column containing lifetime PM25eq emission data\n",
    "col_name = 'PM25_eq_kg'\n",
    "\n",
    "# Name of phase of interest; options are 'materials_extraction', 'construction', 'operation'\n",
    "phase = 'materials_extraction'\n",
    "\n",
    "#\n",
    "PM25_phase_impact_materials_extraction = pd.DataFrame({\n",
    "    'Autarky': [CHN_aut.total_impacts_phase[CHN_aut.total_impacts_phase.index.str.startswith(phase)][col_name][0],\n",
    "                KHM_aut.total_impacts_phase[KHM_aut.total_impacts_phase.index.str.startswith(phase)][col_name][0],\n",
    "                LAO_aut.total_impacts_phase[LAO_aut.total_impacts_phase.index.str.startswith(phase)][col_name][0],\n",
    "                MMR_aut.total_impacts_phase[MMR_aut.total_impacts_phase.index.str.startswith(phase)][col_name][0],\n",
    "                THA_aut.total_impacts_phase[THA_aut.total_impacts_phase.index.str.startswith(phase)][col_name][0],\n",
    "                VNM_aut.total_impacts_phase[VNM_aut.total_impacts_phase.index.str.startswith(phase)][col_name][0]\n",
    "               ],\n",
    "    'Far': [CHN_far.total_impacts_phase[CHN_far.total_impacts_phase.index.str.startswith(phase)][col_name][0],\n",
    "                KHM_far.total_impacts_phase[KHM_far.total_impacts_phase.index.str.startswith(phase)][col_name][0],\n",
    "                LAO_far.total_impacts_phase[LAO_far.total_impacts_phase.index.str.startswith(phase)][col_name][0],\n",
    "                MMR_far.total_impacts_phase[MMR_far.total_impacts_phase.index.str.startswith(phase)][col_name][0],\n",
    "                THA_far.total_impacts_phase[THA_far.total_impacts_phase.index.str.startswith(phase)][col_name][0],\n",
    "                VNM_far.total_impacts_phase[VNM_far.total_impacts_phase.index.str.startswith(phase)][col_name][0]\n",
    "               ],\n",
    "    'Close': [CHN_close.total_impacts_phase[CHN_close.total_impacts_phase.index.str.startswith(phase)][col_name][0],\n",
    "                KHM_close.total_impacts_phase[KHM_close.total_impacts_phase.index.str.startswith(phase)][col_name][0],\n",
    "                LAO_close.total_impacts_phase[LAO_close.total_impacts_phase.index.str.startswith(phase)][col_name][0],\n",
    "                MMR_close.total_impacts_phase[MMR_close.total_impacts_phase.index.str.startswith(phase)][col_name][0],\n",
    "                THA_close.total_impacts_phase[THA_close.total_impacts_phase.index.str.startswith(phase)][col_name][0],\n",
    "                VNM_close.total_impacts_phase[VNM_close.total_impacts_phase.index.str.startswith(phase)][col_name][0]\n",
    "               ],\n",
    "    'Maxemiss': [CHN_maxemiss.total_impacts_phase[CHN_maxemiss.total_impacts_phase.index.str.startswith(phase)][col_name][0],\n",
    "                KHM_maxemiss.total_impacts_phase[KHM_maxemiss.total_impacts_phase.index.str.startswith(phase)][col_name][0],\n",
    "                LAO_maxemiss.total_impacts_phase[LAO_maxemiss.total_impacts_phase.index.str.startswith(phase)][col_name][0],\n",
    "                MMR_maxemiss.total_impacts_phase[MMR_maxemiss.total_impacts_phase.index.str.startswith(phase)][col_name][0],\n",
    "                THA_maxemiss.total_impacts_phase[THA_maxemiss.total_impacts_phase.index.str.startswith(phase)][col_name][0],\n",
    "                VNM_maxemiss.total_impacts_phase[VNM_maxemiss.total_impacts_phase.index.str.startswith(phase)][col_name][0]\n",
    "               ],\n",
    "    'Minemiss': [CHN_minemiss.total_impacts_phase[CHN_minemiss.total_impacts_phase.index.str.startswith(phase)][col_name][0],\n",
    "                KHM_minemiss.total_impacts_phase[KHM_minemiss.total_impacts_phase.index.str.startswith(phase)][col_name][0],\n",
    "                LAO_minemiss.total_impacts_phase[LAO_minemiss.total_impacts_phase.index.str.startswith(phase)][col_name][0],\n",
    "                MMR_minemiss.total_impacts_phase[MMR_minemiss.total_impacts_phase.index.str.startswith(phase)][col_name][0],\n",
    "                THA_minemiss.total_impacts_phase[THA_minemiss.total_impacts_phase.index.str.startswith(phase)][col_name][0],\n",
    "                VNM_minemiss.total_impacts_phase[VNM_minemiss.total_impacts_phase.index.str.startswith(phase)][col_name][0]\n",
    "               ]},\n",
    "    index = ['China','Cambodia','Lao PDR', 'Myanmar', 'Thailand', 'Vietnam']\n",
    ")"
   ]
  },
  {
   "cell_type": "markdown",
   "metadata": {},
   "source": [
    "### Construction Phase CO2eq Emissions - Scenario Comparison"
   ]
  },
  {
   "cell_type": "code",
   "execution_count": 53,
   "metadata": {},
   "outputs": [],
   "source": [
    "# Name of column containing lifetime CO2eq emission data\n",
    "col_name = 'CO2_eq_kg'\n",
    "\n",
    "# Name of phase of interest; options are 'materials_extraction', 'construction', 'operation'\n",
    "phase = 'construction'\n",
    "\n",
    "#\n",
    "CO2_phase_impact_construction = pd.DataFrame({\n",
    "    'Autarky': [CHN_aut.total_impacts_phase[CHN_aut.total_impacts_phase.index.str.startswith(phase)][col_name][0],\n",
    "                KHM_aut.total_impacts_phase[KHM_aut.total_impacts_phase.index.str.startswith(phase)][col_name][0],\n",
    "                LAO_aut.total_impacts_phase[LAO_aut.total_impacts_phase.index.str.startswith(phase)][col_name][0],\n",
    "                MMR_aut.total_impacts_phase[MMR_aut.total_impacts_phase.index.str.startswith(phase)][col_name][0],\n",
    "                THA_aut.total_impacts_phase[THA_aut.total_impacts_phase.index.str.startswith(phase)][col_name][0],\n",
    "                VNM_aut.total_impacts_phase[VNM_aut.total_impacts_phase.index.str.startswith(phase)][col_name][0]\n",
    "               ],\n",
    "    'Far': [CHN_far.total_impacts_phase[CHN_far.total_impacts_phase.index.str.startswith(phase)][col_name][0],\n",
    "                KHM_far.total_impacts_phase[KHM_far.total_impacts_phase.index.str.startswith(phase)][col_name][0],\n",
    "                LAO_far.total_impacts_phase[LAO_far.total_impacts_phase.index.str.startswith(phase)][col_name][0],\n",
    "                MMR_far.total_impacts_phase[MMR_far.total_impacts_phase.index.str.startswith(phase)][col_name][0],\n",
    "                THA_far.total_impacts_phase[THA_far.total_impacts_phase.index.str.startswith(phase)][col_name][0],\n",
    "                VNM_far.total_impacts_phase[VNM_far.total_impacts_phase.index.str.startswith(phase)][col_name][0]\n",
    "               ],\n",
    "    'Close': [CHN_close.total_impacts_phase[CHN_close.total_impacts_phase.index.str.startswith(phase)][col_name][0],\n",
    "                KHM_close.total_impacts_phase[KHM_close.total_impacts_phase.index.str.startswith(phase)][col_name][0],\n",
    "                LAO_close.total_impacts_phase[LAO_close.total_impacts_phase.index.str.startswith(phase)][col_name][0],\n",
    "                MMR_close.total_impacts_phase[MMR_close.total_impacts_phase.index.str.startswith(phase)][col_name][0],\n",
    "                THA_close.total_impacts_phase[THA_close.total_impacts_phase.index.str.startswith(phase)][col_name][0],\n",
    "                VNM_close.total_impacts_phase[VNM_close.total_impacts_phase.index.str.startswith(phase)][col_name][0]\n",
    "               ],\n",
    "    'Maxemiss': [CHN_maxemiss.total_impacts_phase[CHN_maxemiss.total_impacts_phase.index.str.startswith(phase)][col_name][0],\n",
    "                KHM_maxemiss.total_impacts_phase[KHM_maxemiss.total_impacts_phase.index.str.startswith(phase)][col_name][0],\n",
    "                LAO_maxemiss.total_impacts_phase[LAO_maxemiss.total_impacts_phase.index.str.startswith(phase)][col_name][0],\n",
    "                MMR_maxemiss.total_impacts_phase[MMR_maxemiss.total_impacts_phase.index.str.startswith(phase)][col_name][0],\n",
    "                THA_maxemiss.total_impacts_phase[THA_maxemiss.total_impacts_phase.index.str.startswith(phase)][col_name][0],\n",
    "                VNM_maxemiss.total_impacts_phase[VNM_maxemiss.total_impacts_phase.index.str.startswith(phase)][col_name][0]\n",
    "               ],\n",
    "    'Minemiss': [CHN_minemiss.total_impacts_phase[CHN_minemiss.total_impacts_phase.index.str.startswith(phase)][col_name][0],\n",
    "                KHM_minemiss.total_impacts_phase[KHM_minemiss.total_impacts_phase.index.str.startswith(phase)][col_name][0],\n",
    "                LAO_minemiss.total_impacts_phase[LAO_minemiss.total_impacts_phase.index.str.startswith(phase)][col_name][0],\n",
    "                MMR_minemiss.total_impacts_phase[MMR_minemiss.total_impacts_phase.index.str.startswith(phase)][col_name][0],\n",
    "                THA_minemiss.total_impacts_phase[THA_minemiss.total_impacts_phase.index.str.startswith(phase)][col_name][0],\n",
    "                VNM_minemiss.total_impacts_phase[VNM_minemiss.total_impacts_phase.index.str.startswith(phase)][col_name][0]\n",
    "               ]},\n",
    "    index = ['China','Cambodia','Lao PDR', 'Myanmar', 'Thailand', 'Vietnam']\n",
    ")"
   ]
  },
  {
   "cell_type": "markdown",
   "metadata": {},
   "source": [
    "### Construction Phase SO2eq Emissions - Scenario Comparison"
   ]
  },
  {
   "cell_type": "code",
   "execution_count": 54,
   "metadata": {},
   "outputs": [],
   "source": [
    "# Name of column containing lifetime SO2eq emission data\n",
    "col_name = 'SO2_eq_kg'\n",
    "\n",
    "# Name of phase of interest; options are 'materials_extraction', 'construction', 'operation'\n",
    "phase = 'construction'\n",
    "\n",
    "#\n",
    "SO2_phase_impact_construction = pd.DataFrame({\n",
    "    'Autarky': [CHN_aut.total_impacts_phase[CHN_aut.total_impacts_phase.index.str.startswith(phase)][col_name][0],\n",
    "                KHM_aut.total_impacts_phase[KHM_aut.total_impacts_phase.index.str.startswith(phase)][col_name][0],\n",
    "                LAO_aut.total_impacts_phase[LAO_aut.total_impacts_phase.index.str.startswith(phase)][col_name][0],\n",
    "                MMR_aut.total_impacts_phase[MMR_aut.total_impacts_phase.index.str.startswith(phase)][col_name][0],\n",
    "                THA_aut.total_impacts_phase[THA_aut.total_impacts_phase.index.str.startswith(phase)][col_name][0],\n",
    "                VNM_aut.total_impacts_phase[VNM_aut.total_impacts_phase.index.str.startswith(phase)][col_name][0]\n",
    "               ],\n",
    "    'Far': [CHN_far.total_impacts_phase[CHN_far.total_impacts_phase.index.str.startswith(phase)][col_name][0],\n",
    "                KHM_far.total_impacts_phase[KHM_far.total_impacts_phase.index.str.startswith(phase)][col_name][0],\n",
    "                LAO_far.total_impacts_phase[LAO_far.total_impacts_phase.index.str.startswith(phase)][col_name][0],\n",
    "                MMR_far.total_impacts_phase[MMR_far.total_impacts_phase.index.str.startswith(phase)][col_name][0],\n",
    "                THA_far.total_impacts_phase[THA_far.total_impacts_phase.index.str.startswith(phase)][col_name][0],\n",
    "                VNM_far.total_impacts_phase[VNM_far.total_impacts_phase.index.str.startswith(phase)][col_name][0]\n",
    "               ],\n",
    "    'Close': [CHN_close.total_impacts_phase[CHN_close.total_impacts_phase.index.str.startswith(phase)][col_name][0],\n",
    "                KHM_close.total_impacts_phase[KHM_close.total_impacts_phase.index.str.startswith(phase)][col_name][0],\n",
    "                LAO_close.total_impacts_phase[LAO_close.total_impacts_phase.index.str.startswith(phase)][col_name][0],\n",
    "                MMR_close.total_impacts_phase[MMR_close.total_impacts_phase.index.str.startswith(phase)][col_name][0],\n",
    "                THA_close.total_impacts_phase[THA_close.total_impacts_phase.index.str.startswith(phase)][col_name][0],\n",
    "                VNM_close.total_impacts_phase[VNM_close.total_impacts_phase.index.str.startswith(phase)][col_name][0]\n",
    "               ],\n",
    "    'Maxemiss': [CHN_maxemiss.total_impacts_phase[CHN_maxemiss.total_impacts_phase.index.str.startswith(phase)][col_name][0],\n",
    "                KHM_maxemiss.total_impacts_phase[KHM_maxemiss.total_impacts_phase.index.str.startswith(phase)][col_name][0],\n",
    "                LAO_maxemiss.total_impacts_phase[LAO_maxemiss.total_impacts_phase.index.str.startswith(phase)][col_name][0],\n",
    "                MMR_maxemiss.total_impacts_phase[MMR_maxemiss.total_impacts_phase.index.str.startswith(phase)][col_name][0],\n",
    "                THA_maxemiss.total_impacts_phase[THA_maxemiss.total_impacts_phase.index.str.startswith(phase)][col_name][0],\n",
    "                VNM_maxemiss.total_impacts_phase[VNM_maxemiss.total_impacts_phase.index.str.startswith(phase)][col_name][0]\n",
    "               ],\n",
    "    'Minemiss': [CHN_minemiss.total_impacts_phase[CHN_minemiss.total_impacts_phase.index.str.startswith(phase)][col_name][0],\n",
    "                KHM_minemiss.total_impacts_phase[KHM_minemiss.total_impacts_phase.index.str.startswith(phase)][col_name][0],\n",
    "                LAO_minemiss.total_impacts_phase[LAO_minemiss.total_impacts_phase.index.str.startswith(phase)][col_name][0],\n",
    "                MMR_minemiss.total_impacts_phase[MMR_minemiss.total_impacts_phase.index.str.startswith(phase)][col_name][0],\n",
    "                THA_minemiss.total_impacts_phase[THA_minemiss.total_impacts_phase.index.str.startswith(phase)][col_name][0],\n",
    "                VNM_minemiss.total_impacts_phase[VNM_minemiss.total_impacts_phase.index.str.startswith(phase)][col_name][0]\n",
    "               ]},\n",
    "    index = ['China','Cambodia','Lao PDR', 'Myanmar', 'Thailand', 'Vietnam']\n",
    ")"
   ]
  },
  {
   "cell_type": "markdown",
   "metadata": {},
   "source": [
    "### Construction Phase PM2.5eq Emissions - Scenario Comparison"
   ]
  },
  {
   "cell_type": "code",
   "execution_count": 55,
   "metadata": {},
   "outputs": [],
   "source": [
    "# Name of column containing lifetime PM25eq emission data\n",
    "col_name = 'PM25_eq_kg'\n",
    "\n",
    "# Name of phase of interest; options are 'materials_extraction', 'construction', 'operation'\n",
    "phase = 'construction'\n",
    "\n",
    "#\n",
    "PM25_phase_impact_construction = pd.DataFrame({\n",
    "    'Autarky': [CHN_aut.total_impacts_phase[CHN_aut.total_impacts_phase.index.str.startswith(phase)][col_name][0],\n",
    "                KHM_aut.total_impacts_phase[KHM_aut.total_impacts_phase.index.str.startswith(phase)][col_name][0],\n",
    "                LAO_aut.total_impacts_phase[LAO_aut.total_impacts_phase.index.str.startswith(phase)][col_name][0],\n",
    "                MMR_aut.total_impacts_phase[MMR_aut.total_impacts_phase.index.str.startswith(phase)][col_name][0],\n",
    "                THA_aut.total_impacts_phase[THA_aut.total_impacts_phase.index.str.startswith(phase)][col_name][0],\n",
    "                VNM_aut.total_impacts_phase[VNM_aut.total_impacts_phase.index.str.startswith(phase)][col_name][0]\n",
    "               ],\n",
    "    'Far': [CHN_far.total_impacts_phase[CHN_far.total_impacts_phase.index.str.startswith(phase)][col_name][0],\n",
    "                KHM_far.total_impacts_phase[KHM_far.total_impacts_phase.index.str.startswith(phase)][col_name][0],\n",
    "                LAO_far.total_impacts_phase[LAO_far.total_impacts_phase.index.str.startswith(phase)][col_name][0],\n",
    "                MMR_far.total_impacts_phase[MMR_far.total_impacts_phase.index.str.startswith(phase)][col_name][0],\n",
    "                THA_far.total_impacts_phase[THA_far.total_impacts_phase.index.str.startswith(phase)][col_name][0],\n",
    "                VNM_far.total_impacts_phase[VNM_far.total_impacts_phase.index.str.startswith(phase)][col_name][0]\n",
    "               ],\n",
    "    'Close': [CHN_close.total_impacts_phase[CHN_close.total_impacts_phase.index.str.startswith(phase)][col_name][0],\n",
    "                KHM_close.total_impacts_phase[KHM_close.total_impacts_phase.index.str.startswith(phase)][col_name][0],\n",
    "                LAO_close.total_impacts_phase[LAO_close.total_impacts_phase.index.str.startswith(phase)][col_name][0],\n",
    "                MMR_close.total_impacts_phase[MMR_close.total_impacts_phase.index.str.startswith(phase)][col_name][0],\n",
    "                THA_close.total_impacts_phase[THA_close.total_impacts_phase.index.str.startswith(phase)][col_name][0],\n",
    "                VNM_close.total_impacts_phase[VNM_close.total_impacts_phase.index.str.startswith(phase)][col_name][0]\n",
    "               ],\n",
    "    'Maxemiss': [CHN_maxemiss.total_impacts_phase[CHN_maxemiss.total_impacts_phase.index.str.startswith(phase)][col_name][0],\n",
    "                KHM_maxemiss.total_impacts_phase[KHM_maxemiss.total_impacts_phase.index.str.startswith(phase)][col_name][0],\n",
    "                LAO_maxemiss.total_impacts_phase[LAO_maxemiss.total_impacts_phase.index.str.startswith(phase)][col_name][0],\n",
    "                MMR_maxemiss.total_impacts_phase[MMR_maxemiss.total_impacts_phase.index.str.startswith(phase)][col_name][0],\n",
    "                THA_maxemiss.total_impacts_phase[THA_maxemiss.total_impacts_phase.index.str.startswith(phase)][col_name][0],\n",
    "                VNM_maxemiss.total_impacts_phase[VNM_maxemiss.total_impacts_phase.index.str.startswith(phase)][col_name][0]\n",
    "               ],\n",
    "    'Minemiss': [CHN_minemiss.total_impacts_phase[CHN_minemiss.total_impacts_phase.index.str.startswith(phase)][col_name][0],\n",
    "                KHM_minemiss.total_impacts_phase[KHM_minemiss.total_impacts_phase.index.str.startswith(phase)][col_name][0],\n",
    "                LAO_minemiss.total_impacts_phase[LAO_minemiss.total_impacts_phase.index.str.startswith(phase)][col_name][0],\n",
    "                MMR_minemiss.total_impacts_phase[MMR_minemiss.total_impacts_phase.index.str.startswith(phase)][col_name][0],\n",
    "                THA_minemiss.total_impacts_phase[THA_minemiss.total_impacts_phase.index.str.startswith(phase)][col_name][0],\n",
    "                VNM_minemiss.total_impacts_phase[VNM_minemiss.total_impacts_phase.index.str.startswith(phase)][col_name][0]\n",
    "               ]},\n",
    "    index = ['China','Cambodia','Lao PDR', 'Myanmar', 'Thailand', 'Vietnam']\n",
    ")"
   ]
  },
  {
   "cell_type": "markdown",
   "metadata": {},
   "source": [
    "### Energy Mix Unit Impacts"
   ]
  },
  {
   "cell_type": "code",
   "execution_count": 56,
   "metadata": {},
   "outputs": [],
   "source": [
    "CO2eq_list = ['CO2_kg','N20_kg','CH4_kg','CFCs_kg','HCFCs_kg','CH3Br_kg']\n",
    "SO2eq_list = ['SO2_kg','SO3_kg','HCl_kg','HF_kg','NOx_kg','NH4_kg']\n",
    "PM25eq_list = ['PM25_kg', 'PM25-10_kg', 'PM10_kg']\n",
    "\n",
    "CO2eq = CHN_aut.energy_mix_emissions[CO2eq_list].sum(axis=1)\n",
    "SO2eq = CHN_aut.energy_mix_emissions[SO2eq_list].sum(axis=1)\n",
    "PM25eq = CHN_aut.energy_mix_emissions[PM25eq_list].sum(axis=1)\n",
    "\n",
    "# Note that the energy_mix_emissions table is identical for all class instances;\n",
    "# only one copy need be exported\n",
    "energy_mix_impacts = pd.DataFrame({'CO2eq': CHN_aut.energy_mix_emissions[CO2eq_list].sum(axis=1),\n",
    "                                   'SO2eq': CHN_aut.energy_mix_emissions[SO2eq_list].sum(axis=1),\n",
    "                                   'PM25eq': CHN_aut.energy_mix_emissions[PM25eq_list].sum(axis=1)}\n",
    "                                 )\n",
    "energy_mix_impacts.index = ['China','Cambodia','Lao PDR', 'Myanmar', 'Thailand', 'Vietnam']"
   ]
  },
  {
   "cell_type": "markdown",
   "metadata": {},
   "source": [
    "## Export Data"
   ]
  },
  {
   "cell_type": "code",
   "execution_count": 57,
   "metadata": {},
   "outputs": [],
   "source": [
    "# If selected results export directory does not exist, create it\n",
    "if not os.path.exists(export_dir):\n",
    "    os.makedirs(export_dir)"
   ]
  },
  {
   "cell_type": "markdown",
   "metadata": {},
   "source": [
    "### Total Impact - Phase - CSV Exports"
   ]
  },
  {
   "cell_type": "code",
   "execution_count": 58,
   "metadata": {
    "ExecuteTime": {
     "end_time": "2019-10-10T18:06:04.487652Z",
     "start_time": "2019-10-10T18:06:04.463716Z"
    }
   },
   "outputs": [],
   "source": [
    "autarky_total_impact_phase.to_csv(\n",
    "    export_dir + \"/autarky_total_impact_phase.csv\")\n",
    "far_total_impact_phase.to_csv(\n",
    "    export_dir + \"/far_total_impact_phase.csv\")\n",
    "close_total_impact_phase.to_csv(\n",
    "    export_dir + \"/close_total_impact_phase.csv\")\n",
    "maxemiss_total_impact_phase.to_csv(\n",
    "    export_dir + \"/maxemiss_total_impact_phase.csv\")\n",
    "minemiss_total_impact_phase.to_csv(\n",
    "    export_dir + \"/minemiss_total_impact_phase.csv\")"
   ]
  },
  {
   "cell_type": "markdown",
   "metadata": {},
   "source": [
    "### Total Impact - Lifetime - CSV Exports"
   ]
  },
  {
   "cell_type": "code",
   "execution_count": 59,
   "metadata": {
    "ExecuteTime": {
     "end_time": "2019-10-10T18:06:04.507599Z",
     "start_time": "2019-10-10T18:06:04.489665Z"
    }
   },
   "outputs": [],
   "source": [
    "autarky_total_impact_lifetime.to_csv(\n",
    "    export_dir + \"/autarky_total_impact_lifetime.csv\")\n",
    "far_total_impact_lifetime.to_csv(\n",
    "    export_dir + \"/far_total_impact_lifetime.csv\")\n",
    "close_total_impact_lifetime.to_csv(\n",
    "    export_dir + \"/close_total_impact_lifetime.csv\")\n",
    "maxemiss_total_impact_lifetime.to_csv(\n",
    "    export_dir + \"/maxemiss_total_impact_lifetime.csv\")\n",
    "minemiss_total_impact_lifetime.to_csv(\n",
    "    export_dir + \"/minemiss_total_impact_lifetime.csv\")"
   ]
  },
  {
   "cell_type": "markdown",
   "metadata": {},
   "source": [
    "### Total Impact - Phase - Excel Export"
   ]
  },
  {
   "cell_type": "code",
   "execution_count": 60,
   "metadata": {
    "ExecuteTime": {
     "end_time": "2019-10-10T18:06:04.898300Z",
     "start_time": "2019-10-10T18:06:04.509594Z"
    }
   },
   "outputs": [],
   "source": [
    "with pd.ExcelWriter(export_dir + \"/total_impact_phase_all.xlsx\") as writer:\n",
    "    autarky_total_impact_phase.to_excel(writer, sheet_name='autarky_total_impact_phase')\n",
    "    far_total_impact_phase.to_excel(writer, sheet_name='far_total_impact_phase')\n",
    "    close_total_impact_phase.to_excel(writer, sheet_name='close_total_impact_phase')\n",
    "    maxemiss_total_impact_phase.to_excel(writer, sheet_name='maxemiss_total_impact_phase')\n",
    "    minemiss_total_impact_phase.to_excel(writer, sheet_name='minemiss_total_impact_phase')"
   ]
  },
  {
   "cell_type": "markdown",
   "metadata": {},
   "source": [
    "### Total Impact - Lifetime - Excel Export"
   ]
  },
  {
   "cell_type": "code",
   "execution_count": 61,
   "metadata": {
    "ExecuteTime": {
     "end_time": "2019-10-10T18:06:04.949474Z",
     "start_time": "2019-10-10T18:06:04.899307Z"
    }
   },
   "outputs": [],
   "source": [
    "with pd.ExcelWriter(export_dir + \"/total_impact_lifetime_all.xlsx\") as writer:\n",
    "    autarky_total_impact_lifetime.to_excel(writer, sheet_name='autarky_total_impact_lifetime')\n",
    "    far_total_impact_lifetime.to_excel(writer, sheet_name='far_total_impact_lifetime')\n",
    "    close_total_impact_lifetime.to_excel(writer, sheet_name='close_total_impact_lifetime')\n",
    "    maxemiss_total_impact_lifetime.to_excel(writer, sheet_name='maxemiss_total_impact_lifetime')\n",
    "    minemiss_total_impact_lifetime.to_excel(writer, sheet_name='minemiss_total_impact_lifetime')"
   ]
  },
  {
   "cell_type": "markdown",
   "metadata": {},
   "source": [
    "### Unit Energy Mix Emissions - Excel Export"
   ]
  },
  {
   "cell_type": "code",
   "execution_count": 62,
   "metadata": {
    "ExecuteTime": {
     "end_time": "2019-10-10T18:06:04.975135Z",
     "start_time": "2019-10-10T18:06:04.951159Z"
    }
   },
   "outputs": [],
   "source": [
    "# Note that the energy_mix_emissions table is identical for all class instances;\n",
    "# only one copy need be exported\n",
    "\n",
    "with pd.ExcelWriter(export_dir + \"/energy_mix_emission.xlsx\") as writer:\n",
    "    CHN_aut.energy_mix_emissions.to_excel(writer, sheet_name='emissions_table')"
   ]
  },
  {
   "cell_type": "markdown",
   "metadata": {},
   "source": [
    "### Results Summary - Excel Export"
   ]
  },
  {
   "cell_type": "code",
   "execution_count": 63,
   "metadata": {},
   "outputs": [],
   "source": [
    "with pd.ExcelWriter(export_dir + \"/results_summary.xlsx\") as writer:\n",
    "    CO2_total_impact_lifetime.to_excel(writer, sheet_name='lifetime_impacts_CO2')\n",
    "    SO2_total_impact_lifetime.to_excel(writer, sheet_name='lifetime_impacts_SO2')\n",
    "    PM25_total_impact_lifetime.to_excel(writer, sheet_name='lifetime_impacts_PM25')\n",
    "    CO2_phase_impact_materials_extraction.to_excel(writer, sheet_name='matextract_impacts_CO2')\n",
    "    SO2_phase_impact_materials_extraction.to_excel(writer, sheet_name='matextract_impacts_SO2')\n",
    "    PM25_phase_impact_materials_extraction.to_excel(writer, sheet_name='matextract_impacts_PM25')\n",
    "    CO2_phase_impact_construction.to_excel(writer, sheet_name='construction_impacts_CO2')\n",
    "    SO2_phase_impact_construction.to_excel(writer, sheet_name='construction_impacts_SO2')\n",
    "    PM25_phase_impact_construction.to_excel(writer, sheet_name='construction_impacts_PM25')\n",
    "    energy_mix_impacts.to_excel(writer, sheet_name='energy_mix_unit_impacts')"
   ]
  }
 ],
 "metadata": {
  "kernelspec": {
   "display_name": "Python 3",
   "language": "python",
   "name": "python3"
  },
  "language_info": {
   "codemirror_mode": {
    "name": "ipython",
    "version": 3
   },
   "file_extension": ".py",
   "mimetype": "text/x-python",
   "name": "python",
   "nbconvert_exporter": "python",
   "pygments_lexer": "ipython3",
   "version": "3.7.4"
  },
  "toc": {
   "base_numbering": 1,
   "nav_menu": {},
   "number_sections": true,
   "sideBar": true,
   "skip_h1_title": false,
   "title_cell": "Table of Contents",
   "title_sidebar": "Contents",
   "toc_cell": false,
   "toc_position": {},
   "toc_section_display": true,
   "toc_window_display": false
  },
  "varInspector": {
   "cols": {
    "lenName": 16,
    "lenType": 16,
    "lenVar": 40
   },
   "kernels_config": {
    "python": {
     "delete_cmd_postfix": "",
     "delete_cmd_prefix": "del ",
     "library": "var_list.py",
     "varRefreshCmd": "print(var_dic_list())"
    },
    "r": {
     "delete_cmd_postfix": ") ",
     "delete_cmd_prefix": "rm(",
     "library": "var_list.r",
     "varRefreshCmd": "cat(var_dic_list()) "
    }
   },
   "types_to_exclude": [
    "module",
    "function",
    "builtin_function_or_method",
    "instance",
    "_Feature"
   ],
   "window_display": false
  }
 },
 "nbformat": 4,
 "nbformat_minor": 4
}
